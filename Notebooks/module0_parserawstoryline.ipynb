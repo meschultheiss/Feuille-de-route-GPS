{
 "cells": [
  {
   "cell_type": "code",
   "execution_count": null,
   "id": "e420096e-1996-4def-bbd4-fbeb30d0cfe4",
   "metadata": {},
   "outputs": [],
   "source": [
    "import geopandas as gpd\n",
    "import pandas as pd\n",
    "pd.set_option('display.max_columns', None)\n",
    "import numpy as np\n",
    "\n",
    "from shapely import geometry, ops\n",
    "from shapely.geometry import MultiLineString, LineString, Point\n",
    "import os\n",
    "from shapely import wkb\n",
    "import binascii\n",
    "import pandas as pd\n",
    "import geopandas as gpd\n",
    "\n",
    "import time"
   ]
  },
  {
   "cell_type": "markdown",
   "id": "3c691ac8-4c4c-4a33-a6a9-bf9a80ada4dc",
   "metadata": {},
   "source": [
    "#### Load data"
   ]
  },
  {
   "cell_type": "code",
   "execution_count": null,
   "id": "33449ae2-df41-4116-85a0-c1494373b4f9",
   "metadata": {},
   "outputs": [],
   "source": [
    "%%time\n",
    "\n",
    "# Define the CRS you want to use (e.g., EPSG:4326 for WGS84)\n",
    "target_crs = 'EPSG:4326'\n",
    "\n",
    "# Storyline motiontag\n",
    "raw = pd.read_csv(\"../Data/dumps_motiontag/Storyline.EPFL-Panel.2023-04-24--2023-06-05.csv\", sep=';')\n",
    "\n",
    "#Charger la table de correspondance entre les userid Motiontag et FORS\n",
    "match_userid = pd.read_csv('../Data/dumps_fors/correspondance_user_id.csv')\n",
    "print(\"Fichier table de correspondance user id chargé\")"
   ]
  },
  {
   "cell_type": "markdown",
   "id": "6a6e27dd-8c42-4863-b9e0-d1f6d633e495",
   "metadata": {},
   "source": [
    "#### Convertir une chaîne EWKB en objet shapely"
   ]
  },
  {
   "cell_type": "code",
   "execution_count": null,
   "id": "7aa084d1-eee7-4936-962b-3436c7429e01",
   "metadata": {},
   "outputs": [],
   "source": [
    "%%time\n",
    "# Fonction pour convertir une chaîne EWKB en objet shapely\n",
    "def parse_ewkb(hex_str):\n",
    "    # Convertit la chaîne hexadécimale en binaire\n",
    "    binary_data = binascii.unhexlify(hex_str)\n",
    "    # Utilise wkb.loads pour obtenir l'objet shapely à partir des données binaires\n",
    "    geometry = wkb.loads(binary_data)\n",
    "    return geometry\n",
    "\n",
    "# Appliquez la fonction à la colonne 'geometry' pour obtenir des objets shapely\n",
    "raw['geometry'] = raw['geometry'].apply(parse_ewkb)\n",
    "\n",
    "# Créez un GeoDataFrame à partir du DataFrame\n",
    "gdf = gpd.GeoDataFrame(raw, geometry='geometry', crs=target_crs)"
   ]
  },
  {
   "cell_type": "markdown",
   "id": "f86ae476-6aa1-4210-bb5d-c13aae1c55fd",
   "metadata": {},
   "source": [
    "#### Formater certaines variables"
   ]
  },
  {
   "cell_type": "code",
   "execution_count": null,
   "id": "7edb4955-2320-4a63-a7da-293964e7a420",
   "metadata": {},
   "outputs": [],
   "source": [
    "%%time\n",
    "gdf['started_at'] = pd.to_datetime(gdf['started_at'])\n",
    "gdf['finished_at'] = pd.to_datetime(gdf['finished_at'])\n",
    "gdf.rename(columns={'user_id':'user_id_motiontag'}, inplace = True)\n"
   ]
  },
  {
   "cell_type": "code",
   "execution_count": null,
   "id": "5c298ad3-9191-4bb5-984f-e0726ba7f025",
   "metadata": {},
   "outputs": [],
   "source": [
    "# Match user ids Motiontag and FORS\n",
    "gdf = pd.merge(gdf, match_userid, on=\"user_id_motiontag\", how=\"left\")\n"
   ]
  },
  {
   "cell_type": "code",
   "execution_count": null,
   "id": "8f437083-e86e-4c1b-b944-3f6965546b90",
   "metadata": {},
   "outputs": [],
   "source": [
    "staypoints = gdf[gdf['type'] == 'Stay'].rename(columns={'id':'activity_id'}).reset_index(drop=True)\n",
    "legs = gdf[gdf['type'] == 'Track'].rename(columns={'id':'leg_id'}).reset_index(drop=True)"
   ]
  },
  {
   "cell_type": "code",
   "execution_count": null,
   "id": "2852fcd2-7bbe-40b6-8289-9038401ee0ea",
   "metadata": {},
   "outputs": [],
   "source": [
    "staypoints['lon'] = staypoints.geometry.x\n",
    "staypoints['lat'] = staypoints.geometry.y"
   ]
  },
  {
   "cell_type": "markdown",
   "id": "cf9e9f98-db88-401d-a832-f580e146f87a",
   "metadata": {},
   "source": [
    "#### Multilinestrings to linestrings"
   ]
  },
  {
   "cell_type": "code",
   "execution_count": null,
   "id": "d5f732da-615d-481e-a095-59d33e4be0ff",
   "metadata": {},
   "outputs": [],
   "source": [
    "# Multilinestrings to linestrings\n",
    "legs.geometry.geom_type.value_counts()"
   ]
  },
  {
   "cell_type": "code",
   "execution_count": null,
   "id": "86ac85d5-25ae-4b79-bbb8-d37325226b57",
   "metadata": {},
   "outputs": [],
   "source": [
    "%%time \n",
    "# Rewrite continuous MultiLineString into LineString geometries\n",
    "legs['geometry'] = legs['geometry'].apply(lambda geom: ops.linemerge(geom) if isinstance(geom, MultiLineString) else geom)\n",
    "# Remove the discontinuous Multilinestrings (only the discontinuous lines remain after the previous operation)\n",
    "# note: an alternative would be to explode the discontinuous multiline, but then we don't have the departure / arrival time: legs.explode(index_parts=True)\n",
    "legs = legs.loc[legs.geometry.geom_type != 'MultiLineString',:]\n",
    "# Point counts for each LineString\n",
    "legs['point_per_linestring'] = legs['geometry'].apply(lambda geom: len(geom.coords))\n",
    "#legs['dep_coordinates'] = legs['geometry'].apply(lambda geom: geom.coords[0])\n",
    "legs.geometry.geom_type.value_counts()"
   ]
  },
  {
   "cell_type": "markdown",
   "id": "c56a9c7f-e33b-49ca-8f6f-ea0b6ead22fc",
   "metadata": {},
   "source": [
    "#### Remove nan columns"
   ]
  },
  {
   "cell_type": "code",
   "execution_count": null,
   "id": "fc7bcbbe-7334-4e5e-9005-9c1c3fd371bd",
   "metadata": {},
   "outputs": [],
   "source": [
    "staypoints = staypoints.drop(columns=[\"length\",\"detected_mode\",\"mode\"])\n",
    "legs = legs.drop(columns=[\"purpose\"])"
   ]
  },
  {
   "cell_type": "markdown",
   "id": "f6e4c595-f9ff-43a3-a16b-bbb79f791ae3",
   "metadata": {},
   "source": [
    "#### Save to pickles"
   ]
  },
  {
   "cell_type": "code",
   "execution_count": null,
   "id": "e94e1b4c-c80f-434b-b2a3-56dfec28e75c",
   "metadata": {},
   "outputs": [],
   "source": [
    "%%time\n",
    "staypoints.to_pickle(\"../Data/dumps_motiontag/storyline_formated/staypoints.pkl\")\n",
    "legs.to_pickle(\"../Data/dumps_motiontag/storyline_formated/legs.pkl\")"
   ]
  },
  {
   "cell_type": "code",
   "execution_count": null,
   "id": "868be978-ee3a-47a2-b963-2a7442e6e593",
   "metadata": {},
   "outputs": [],
   "source": []
  }
 ],
 "metadata": {
  "kernelspec": {
   "display_name": "Python 3 (ipykernel)",
   "language": "python",
   "name": "python3"
  },
  "language_info": {
   "codemirror_mode": {
    "name": "ipython",
    "version": 3
   },
   "file_extension": ".py",
   "mimetype": "text/x-python",
   "name": "python",
   "nbconvert_exporter": "python",
   "pygments_lexer": "ipython3",
   "version": "3.12.2"
  }
 },
 "nbformat": 4,
 "nbformat_minor": 5
}
