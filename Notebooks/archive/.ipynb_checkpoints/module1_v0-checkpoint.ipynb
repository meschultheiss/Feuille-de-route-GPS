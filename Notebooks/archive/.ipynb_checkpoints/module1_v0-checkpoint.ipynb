{
 "cells": [
  {
   "cell_type": "markdown",
   "id": "166865c6-1177-4944-8846-280c5be42568",
   "metadata": {},
   "source": [
    "#  Module 1 : Parts modales\n",
    "\n",
    "**Description** : Le but de ce module est de mener un premier calcul des parts modales kilométriques i.e. les distances journalières moyennisées par mode et par motif.\n",
    "\n",
    "**Durée estimée première partie** : 7 jours\n",
    "\n",
    "**Objectifs spécifiques** :\n",
    "- [ ] Sous-échantillonnage des résidents et visiteurs par canton (basé sur l’adresse déclarée)\n",
    "- [ ] Rééchantillonnage des jours d’observation pour avoir un calendrier continue par usager\n",
    "- [ ] Intégrer le détail des transit\n",
    "- [ ] Distinguer de façon aussi systématique que possible les jours sans déplacement des jours\n",
    "non-détectés et comparaison statistique au jours non-déplacé dans d’autres bases de\n",
    "données\n",
    "- [ ] Recodage des modes et motifs selon besoin des cantons\n",
    "- [ ] Calcul liminaire des parts modales kilométriques et par déplacements\n",
    "- [ ] Ajout des données d’équipement (e.g. type de motorisation principale du ménage)\n",
    "- [ ] Documenter les hypothèses et limites du calcul liminaire des parts modales (e.g. aspects\n",
    "saisonniers, échantillonnage, perte de signal, moyennisation des données longitudinales, ...)\n",
    "\n",
    "**Résultats attendus** : Parts modales kilométriques par mode pour les résidents et visiteurs de chaque canton en vue du calcul des émissions carbone. Il doit être possible de calculer les parts modales en tenant compte des jours non-mobiles.\n",
    "\n",
    "**Sous-échantillonnage** :\n",
    "- Vaud : résident·es du canton\n",
    "- Genève : résident·es du canton"
   ]
  },
  {
   "cell_type": "code",
   "execution_count": null,
   "id": "148a82e2-45e5-4731-a524-7414b185cd07",
   "metadata": {},
   "outputs": [],
   "source": [
    "%load_ext autoreload"
   ]
  },
  {
   "cell_type": "code",
   "execution_count": null,
   "id": "db978265-9330-4054-9728-32b4d8ee4df0",
   "metadata": {},
   "outputs": [],
   "source": [
    "%autoreload 2"
   ]
  },
  {
   "cell_type": "code",
   "execution_count": null,
   "id": "c3ab3d72-e25d-4c20-9055-d0942219f3dd",
   "metadata": {},
   "outputs": [],
   "source": [
    "import geopandas as gpd\n",
    "import pandas as pd\n",
    "pd.set_option('display.max_columns', None)\n",
    "import numpy as np\n",
    "\n",
    "from shapely import geometry, ops\n",
    "from shapely.geometry import MultiLineString, LineString, Point\n",
    "import os\n",
    "import concurrent.futures\n",
    "from shapely.ops import unary_union\n",
    "import xyt\n",
    "\n",
    "import time"
   ]
  },
  {
   "cell_type": "markdown",
   "id": "2bf133b5-1d51-4369-ad6f-fd9681770f25",
   "metadata": {},
   "source": [
    "### Charger les données"
   ]
  },
  {
   "cell_type": "code",
   "execution_count": null,
   "id": "67f5e056-eb6b-42fa-8e51-fe58296bc893",
   "metadata": {},
   "outputs": [],
   "source": [
    "%%time\n",
    "# Définir le CRS du projet (EPSG:4326 for WGS84)\n",
    "target_crs = 'EPSG:4326'\n",
    "print(\"CRS du projet: WGS84 \\n\")\n",
    "\n",
    "#Charger les étapes\n",
    "# Ask the user for input\n",
    "choice = input(\"Do you want to load a sample or the full leg data frame? \\n Enter 'sample' or 'full': \")\n",
    "\n",
    "# Define the file paths\n",
    "if choice.lower() == 'sample':\n",
    "    file_path = '../Data/time_space_filters/legs_filtered_randsample.pkl'\n",
    "elif choice.lower() == 'full':\n",
    "    file_path = '../Data/time_space_filters/legs_filtered.pkl'\n",
    "else:\n",
    "    print(\"Invalid choice. Please enter 'sample' or 'full'.\")\n",
    "\n",
    "# Load the selected data frame\n",
    "try:\n",
    "    legs = pd.read_pickle(file_path)\n",
    "    print(\"Fichier étape chargé\")\n",
    "except FileNotFoundError:\n",
    "    print(\"File not found. Please check the file path.\")\n",
    "legs = gpd.GeoDataFrame(legs, geometry=\"geometry\")\n",
    "\n",
    "#Charger les activités\n",
    "staypoints = pd.read_pickle('../Data/time_space_filters/staypoints_filtered.pkl').reset_index(drop=True)\n",
    "staypoints = gpd.GeoDataFrame(staypoints, geometry=\"geometry\")\n",
    "print(\"Fichier activité chargé\")\n",
    "\n",
    "#Charger le questionnaire de la Vague 1 Mobilité\n",
    "full_survey = pd.read_csv('../../Vague1/EPFL_vague1_v4.csv', low_memory=False)\n",
    "dom =  pd.read_csv('../../Vague1/Localisation_domicile.csv', low_memory=False)\n",
    "dom = gpd.GeoDataFrame(dom, geometry=gpd.points_from_xy(dom.dom_long, dom.dom_lat), crs=target_crs)\n",
    "del dom['dom_long']\n",
    "del dom['dom_lat']\n",
    "print(\"Fichier questionnaire chargé\")\n",
    "\n",
    "#Charger les bases officielles pour le sous-échantillonage géographique https://opendata.swiss/de/dataset/vm-uvek-zones-2017/resource/29b98f2c-42f2-4e72-b8b1-a39500ed0ad0\n",
    "TAZ = gpd.read_file('../../Vague1/Verkehrszonen_Schweiz_NPVM_2017_shp/Verkehrszonen_Schweiz_NPVM_2017.shp')\n",
    "TAZ = TAZ[['ID_Agglo', 'N_Agglo', 'N_KT', 'ID_Gem', 'geometry']]\n",
    "TAZ = TAZ.to_crs(crs=target_crs)\n",
    "#repare anomalies\n",
    "TAZ['geometry'] = TAZ['geometry'].buffer(0)\n",
    "print(\"Fichier Zones de traffic chargé\")"
   ]
  },
  {
   "cell_type": "code",
   "execution_count": null,
   "id": "e0318cf6-a2f9-4274-b78b-6769e5fe7e8f",
   "metadata": {},
   "outputs": [],
   "source": [
    "#Q4_1_1_R : Combien avez-vous de voiture conventionnelle en état de fonctionnement dans votre ménage ?\n",
    "#Q4_1_2_R : Combien avez-vous de voiture électrique/hybride en état de fonctionnement dans votre ménage ?\n",
    "#Q5 : Quel est le type de motorisation de la voiture que vous utilisez le plus souvent ?\n",
    "#Q6 : Quel est le type de motorisation de la deuxième voiture que vous utilisez le plus souvent ?\n",
    "#Q7 : Pouvez-vous disposer d’une voiture du ménage quand vous le souhaitez ?\n",
    "#Q8 : Vous arrive-t-il de vous faire prêter une voiture par des proches (ami·e·s, famille, etc.) pour vos propres déplacements ou ceux de votre ménage ?\n",
    "#Q9 : Vous arrive-t-il d'utiliser un service d'autopartage (car-sharing, tel que Mobility ou Citiz) ?\n",
    "\n",
    "survey = full_survey[['IDNO','canton_dep','AGGLO_CH_dom','Pays','Groupe', 'Weight', 'ID_COM', 'permis_auto', 'revenu', 'revenuFR','revenuCH','age','formation','Genre_actuel','KLASSE_ARE_dom', 'KLASSE_ARE_trav', 'pays_trav', 'Q4_1_1_R','Q4_1_2_R', 'Q5_R', 'Q6_R', 'Q7', 'Q8', 'Q9']].copy()"
   ]
  },
  {
   "cell_type": "markdown",
   "id": "cea299a4-42cb-4d44-9fee-31cce0bbbffd",
   "metadata": {},
   "source": [
    "###  Formater les données"
   ]
  },
  {
   "cell_type": "code",
   "execution_count": null,
   "id": "b7eb11e7-630e-44fd-b629-3199ed3a95ca",
   "metadata": {},
   "outputs": [],
   "source": [
    "staypoints['started_at'] = pd.to_datetime(staypoints['started_at'])\n",
    "staypoints['finished_at'] = pd.to_datetime(staypoints['finished_at'])\n",
    "\n",
    "legs['started_at'] = pd.to_datetime(legs['started_at'])\n",
    "legs['finished_at'] = pd.to_datetime(legs['finished_at'])\n",
    "\n",
    "staypoints.rename(columns={'IDNO':'user_id', 'id':'activity_id'}, inplace = True)\n",
    "legs.rename(columns={'IDNO':'user_id', 'id':'leg_id'}, inplace = True)\n",
    "\n",
    "staypoints['lon'] = staypoints.geometry.x\n",
    "staypoints['lat'] = staypoints.geometry.y"
   ]
  },
  {
   "cell_type": "code",
   "execution_count": null,
   "id": "0ea09421-8bbf-44f4-bae4-29ab7b055f45",
   "metadata": {},
   "outputs": [],
   "source": [
    "staypoints.dtypes"
   ]
  },
  {
   "cell_type": "markdown",
   "id": "49d252b4-cf3b-4ebd-8b98-d23bfd54bef5",
   "metadata": {},
   "source": [
    "### Ajouter le *next activity_id* aux étapes"
   ]
  },
  {
   "cell_type": "code",
   "execution_count": null,
   "id": "6fd6a864-2c19-4043-84ba-ccce74c2e613",
   "metadata": {},
   "outputs": [],
   "source": [
    "# Sort 'points' and 'legs' by 'started_at' to ensure data is in chronological order\n",
    "staypoints.sort_values(by=['user_id','started_at'], inplace=True, ignore_index=True)\n",
    "legs.sort_values(by=['user_id','started_at'], inplace=True)"
   ]
  },
  {
   "cell_type": "code",
   "execution_count": null,
   "id": "92c019c0-863c-4702-a277-20fa49eb05b6",
   "metadata": {},
   "outputs": [],
   "source": [
    "legs = pd.merge(legs, staypoints[['activity_id', 'previous_leg_id']],\n",
    "               left_on='leg_id', right_on='previous_leg_id', how='left')\n",
    "legs.rename(columns={'activity_id':'next_activity_id'}, inplace=True)\n",
    "del legs['previous_leg_id']"
   ]
  },
  {
   "cell_type": "markdown",
   "id": "5e6942c1-cb26-40be-b61e-57c102ea73e7",
   "metadata": {},
   "source": [
    "###  Ajouter la durée et la longueur des étapes"
   ]
  },
  {
   "cell_type": "code",
   "execution_count": null,
   "id": "0384b81b-c21a-4f7a-a1b8-86ed7ae2b151",
   "metadata": {},
   "outputs": [],
   "source": [
    "%%time \n",
    "# Add length in meters\n",
    "legs['length'] = legs.to_crs('EPSG:2056').length\n",
    "# Add the duration in seconds\n",
    "legs['duration'] = (legs['finished_at'] - legs['started_at']).dt.total_seconds()"
   ]
  },
  {
   "cell_type": "code",
   "execution_count": null,
   "id": "711e5a79-1f05-4cbf-ba84-38d7d82b8f76",
   "metadata": {},
   "outputs": [],
   "source": [
    "staypoints = pd.merge(staypoints, legs[['leg_id','length','duration']], how='left',left_on='previous_leg_id',right_on='leg_id')\n",
    "staypoints.rename(columns={'length':'previous_length','duration':'previous_duration'}, inplace=True)\n",
    "del staypoints['leg_id']\n",
    "staypoints = pd.merge(staypoints, legs[['leg_id','length','duration']], how='left',left_on='next_leg_id',right_on='leg_id')\n",
    "staypoints.rename(columns={'length':'next_length','duration':'next_duration'}, inplace=True)\n",
    "del staypoints['leg_id']"
   ]
  },
  {
   "cell_type": "markdown",
   "id": "da20b595-0d40-446c-acd1-24efe889f816",
   "metadata": {},
   "source": [
    "### Extraire les aires géographiques et les sous-échantillons (Genève et Vaud)\n",
    "Nous utilisons les zones de traffic du Modèle Voyageur de l'ARE.\n",
    "\n",
    "We want to sample :\n",
    "- all the residents of Canton de Genève\n",
    "- all the activities that happen in Canton de Genève"
   ]
  },
  {
   "cell_type": "code",
   "execution_count": null,
   "id": "cbe12cb3-b769-4dfd-a280-da276f9d8228",
   "metadata": {},
   "outputs": [],
   "source": [
    "%%time\n",
    "\n",
    "# Prompt the user for N_KT value\n",
    "n_kt = input(\"De quelle région souhaitez-vous obtenir les résidents (par exemple, 'GE' ou 'VD'): \")\n",
    "\n",
    "# Ask if we should include activities or just take the list of residents\n",
    "include_activities = input(\"Voulez-vous inclure les activités dans la région {0} par des résidents d'autres cantons? (Oui/Non): \".format(n_kt))\n",
    "\n",
    "\n",
    "# Unir les zones de trafic\n",
    "N_KT_union = unary_union(TAZ[TAZ.N_KT == n_kt].geometry)\n",
    "\n",
    "# Lister les résident·es du KT\n",
    "list_residents_N_KT = dom.loc[dom.within(N_KT_union), 'IDNO'].tolist()\n",
    "\n",
    "# Lister toutes les activités des résident·es du KT (incl. les activités hors KT)\n",
    "list_act_N_KT_res = staypoints.loc[staypoints.user_id.isin(list_residents_N_KT), 'activity_id'].tolist()\n",
    "\n",
    "if include_activities.lower() == 'oui':\n",
    "    # Lister toutes les activités du KT (incl. activités des résident·es hors KT)\n",
    "    activities_in_N_KT = staypoints.loc[staypoints.within(N_KT_union)]\n",
    "    list_activities_in_N_KT = activities_in_N_KT.activity_id.tolist()\n",
    "\n",
    "    # Merge the lists of activity IDs and drop duplicates\n",
    "    list_staypoints_N_KT = list(set(list_act_N_KT_res) | set(list_activities_in_N_KT))\n",
    "else:\n",
    "    # Only take the list of residents\n",
    "    list_staypoints_N_KT = list_act_N_KT_res\n",
    "    activities_in_N_KT = staypoints.loc[(staypoints.activity_id.isin(list_act_N_KT_res))] #(staypoints.within(N_KT_union))\n",
    "    activities_in_N_KT = activities_in_N_KT.dropna().loc[activities_in_N_KT.within(N_KT_union)]\n",
    "    list_activities_in_N_KT = activities_in_N_KT.activity_id.tolist()\n",
    "\n",
    "# Calculate the ratio of staypoints in the specified N_KT to total unique activities\n",
    "ratio_staypoints_N_KT = len(list_staypoints_N_KT) / len(staypoints.activity_id.unique())\n",
    "\n",
    "# Filter staypoints and legs for the specified N_KT\n",
    "staypoints_N_KT = staypoints.loc[staypoints.activity_id.isin(list_staypoints_N_KT)].copy()\n",
    "legs_N_KT = legs.loc[legs.next_activity_id.isin(list_staypoints_N_KT)].copy()\n",
    "\n",
    "# Print the ratio of staypoints in the specified N_KT\n",
    "print(\"\\nRatio de points de séjour dans la région '{0}' par rapport aux activités uniques totales: {1:.2f}\".format(n_kt, ratio_staypoints_N_KT))\n",
    "\n",
    "# Print the normalized value counts of departure cantons for legs in the specified N_KT\n",
    "print(\"\\nValeurs normalisées des cantons d'origine pour les trajets dans la région '{0}':\".format(n_kt))\n",
    "print(legs_N_KT.canton_dep.value_counts(normalize=True))\n",
    "\n",
    "# Print the number of activities recorded\n",
    "print(\"\\nNombre d'activités recensées :\", len(legs_N_KT))\n",
    "\n",
    "N_KT_union\n"
   ]
  },
  {
   "cell_type": "code",
   "execution_count": null,
   "id": "821ebe0c-bdc7-4c73-8280-4f313fcb233a",
   "metadata": {},
   "outputs": [],
   "source": [
    "# Indiquer quelles activités se passent dans KT (booléan) par quel résident·es (booléan)\n",
    "\n",
    "staypoints_N_KT['user_residence_in_KT'] = 0\n",
    "staypoints_N_KT['activity_in_KT'] = 0\n",
    "\n",
    "staypoints_N_KT.loc[staypoints_N_KT.activity_id.isin(list_act_N_KT_res), 'user_residence_in_KT'] = 1\n",
    "staypoints_N_KT.loc[staypoints_N_KT.activity_id.isin(list_activities_in_N_KT), 'activity_in_KT'] = 1"
   ]
  },
  {
   "cell_type": "code",
   "execution_count": null,
   "id": "5eebee78-27cf-4fba-af61-34a73ce0062f",
   "metadata": {},
   "outputs": [],
   "source": [
    "# Add the Municipality ID where the user lives\n",
    "staypoints_N_KT = pd.merge(staypoints_N_KT, dom[['IDNO','dom_Typo_panel','dom_ID_COM']], left_on='user_id', right_on='IDNO', how='left')\n",
    "\n",
    "# Add the Municipality ID where the activity occurs\n",
    "staypoints_N_KT = gpd.sjoin(staypoints_N_KT, TAZ[['geometry','ID_Gem']], how='left', predicate=\"within\")\n",
    "\n",
    "# Rename columns for clarity\n",
    "del staypoints_N_KT['index_right']\n",
    "del staypoints_N_KT['IDNO']\n",
    "staypoints_N_KT.rename(columns={'ID_Gem':'ID_Gem_activity', 'dom_Typo_panel':'Typo_user_home','dom_ID_COM':'ID_Gem_user_home'}, inplace=True)\n",
    "\n",
    "# Recode the territorial typology\n",
    "replacement_mapping = {\n",
    "    'A': 'major_centers',\n",
    "    'B': 'central_urban_areas',\n",
    "    'C': 'urban_suburbs',\n",
    "    'D': 'low_densities',\n",
    "    'F': 'secondary_centers'\n",
    "}\n",
    "\n",
    "staypoints_N_KT['Typo_user_home'] = staypoints_N_KT['Typo_user_home'].replace(replacement_mapping)\n",
    "staypoints_N_KT.loc[staypoints_N_KT.Typo_user_home.isna(), 'Typo_user_home'] = 'other'\n",
    "\n",
    "# Sort values and parse data\n",
    "staypoints_N_KT = staypoints_N_KT.sort_values(by=['user_id', 'started_date'])\n",
    "staypoints_N_KT[['ID_Gem_activity', 'ID_Gem_user_home']] = staypoints_N_KT[['ID_Gem_activity', 'ID_Gem_user_home']].astype(int, errors='ignore')"
   ]
  },
  {
   "cell_type": "code",
   "execution_count": null,
   "id": "ac2c1bfe-eb55-43bb-adb7-c4b477489af2",
   "metadata": {},
   "outputs": [],
   "source": [
    "len(staypoints_N_KT)"
   ]
  },
  {
   "cell_type": "markdown",
   "id": "1aecee43-ec1e-48b4-8423-b8677090bbe0",
   "metadata": {},
   "source": [
    "### Visualize the data"
   ]
  },
  {
   "cell_type": "code",
   "execution_count": null,
   "id": "92d680a6-f5dc-409a-b4b6-beef94b27d48",
   "metadata": {},
   "outputs": [],
   "source": [
    "%autoreload\n",
    "xyt.plot_gps(staypoints_N_KT.dropna()[:2000], geo_columns='geometry')"
   ]
  },
  {
   "cell_type": "code",
   "execution_count": null,
   "id": "a1b69ce4-89be-413a-a1aa-dc0a25524a9c",
   "metadata": {},
   "outputs": [],
   "source": [
    "staypoints_N_KT.columns"
   ]
  },
  {
   "cell_type": "code",
   "execution_count": null,
   "id": "bbd40cce-cc08-4389-a057-aa76ee7d21d2",
   "metadata": {},
   "outputs": [],
   "source": [
    "staypoints_N_KT.activity_in_KT.value_counts()"
   ]
  },
  {
   "cell_type": "code",
   "execution_count": null,
   "id": "f04e6200-54e0-4e5f-9429-83bbfd367138",
   "metadata": {},
   "outputs": [],
   "source": [
    "staypoints_N_KT.dropna().user_id.unique()"
   ]
  },
  {
   "cell_type": "code",
   "execution_count": null,
   "id": "1a30a666-7552-4729-8534-1bcd75e8ad8e",
   "metadata": {},
   "outputs": [],
   "source": [
    "df_ = staypoints.loc[staypoints.user_id.isin(['CH3181'])]\n",
    "df_.head()"
   ]
  },
  {
   "cell_type": "code",
   "execution_count": null,
   "id": "c1ada48b-edb1-4117-bfd0-69b1ecc07268",
   "metadata": {},
   "outputs": [],
   "source": [
    "staypoints_N_KT.loc[staypoints_N_KT.user_id.isin(['CH3181'])]"
   ]
  },
  {
   "cell_type": "code",
   "execution_count": null,
   "id": "9d0de5d1-f20f-44a7-9b8c-ab6ea61aed6e",
   "metadata": {},
   "outputs": [],
   "source": []
  },
  {
   "cell_type": "code",
   "execution_count": null,
   "id": "7a45fc1f-1e59-46fc-9da6-bf7f4c929ce7",
   "metadata": {
    "scrolled": true
   },
   "outputs": [],
   "source": [
    "df_.started_date.min()"
   ]
  },
  {
   "cell_type": "code",
   "execution_count": null,
   "id": "e808458e-e273-4c72-9c56-cf0185c42dfb",
   "metadata": {},
   "outputs": [],
   "source": [
    "df_.started_date.max()"
   ]
  },
  {
   "cell_type": "code",
   "execution_count": null,
   "id": "d1a52505-65ee-437c-9613-8168fb32ae57",
   "metadata": {},
   "outputs": [],
   "source": [
    "df_.started_date.max() - df_.started_date.min()"
   ]
  },
  {
   "cell_type": "code",
   "execution_count": null,
   "id": "19586318-32fd-4917-a9a6-a4ba929cc4ac",
   "metadata": {},
   "outputs": [],
   "source": [
    "user_stat.columns"
   ]
  },
  {
   "cell_type": "code",
   "execution_count": null,
   "id": "860123e6-3c0f-43f5-a617-7accdb3247b1",
   "metadata": {},
   "outputs": [],
   "source": [
    "user_stat = pd.read_csv('../Data/dumps_fors/UserStatistics.EPFL-Panel.2023-04-24--2023-06-05.csv', sep=';')\n",
    "\n",
    "user_stat.loc[user_stat.IDNO.isin(['CH3181']),['IDNO','first_tracked_at', 'latest_confirmed_finished_at','confirmed_days_count','inactive_days_count','days_in_range_count']]"
   ]
  },
  {
   "cell_type": "code",
   "execution_count": null,
   "id": "6fb91b88-1fab-42fd-a50a-b01844b22e1f",
   "metadata": {},
   "outputs": [],
   "source": [
    "#user_stat[user_stat.inactive_days_count !=0]"
   ]
  },
  {
   "cell_type": "code",
   "execution_count": null,
   "id": "7f24c810-affd-40ff-a5c6-036d3606f33d",
   "metadata": {},
   "outputs": [],
   "source": [
    "user_stat"
   ]
  },
  {
   "cell_type": "code",
   "execution_count": null,
   "id": "5faf2abf-0860-41a2-a8dd-570f09e49074",
   "metadata": {},
   "outputs": [],
   "source": [
    "metrics = xyt.GPSAnalytics()"
   ]
  },
  {
   "cell_type": "code",
   "execution_count": null,
   "id": "c23ec359-1038-4302-8799-cc4f12044098",
   "metadata": {},
   "outputs": [],
   "source": [
    "df = metrics.split_overnight(df_)\n",
    "# DAILY USER_ID: Add user_ids per day\n",
    "df.insert(\n",
    "    1,\n",
    "    \"user_id_day\",\n",
    "    df[\"user_id\"]\n",
    "    + \"_\"\n",
    "    + df.started_at.dt.year.astype(str)\n",
    "    + df.started_at.dt.month.astype(str).str.zfill(2)\n",
    "    + df.started_at.dt.day.astype(str).str.zfill(2),\n",
    ")\n",
    "df.head(3)"
   ]
  },
  {
   "cell_type": "code",
   "execution_count": null,
   "id": "bf51ed55-450d-4c9b-979a-c6b24437dd9b",
   "metadata": {},
   "outputs": [],
   "source": [
    "def get_modal_distances(df):\n",
    "\n",
    "    df['previous_length'] = df['previous_length'].astype(float)\n",
    "    # Group by 'user_id_day', 'previous_mode', and 'previous_leg_id', then sum the distances\n",
    "    grouped = df.groupby(['user_id','user_id_day', 'previous_mode'])['previous_length'].sum().reset_index()\n",
    "\n",
    "    # Pivot the table to have modes as columns\n",
    "    pivoted = grouped.pivot_table(\n",
    "        index=['user_id','user_id_day'],\n",
    "        columns='previous_mode',\n",
    "        values='previous_length',\n",
    "        aggfunc='sum'\n",
    "    ).reset_index()\n",
    "\n",
    "    # Resample to include missing days and fill NaNs with different values in different columns\n",
    "    pivoted['date'] = pd.to_datetime(pivoted['user_id_day'].str[-8:])\n",
    "    # Create a date range covering the entire date range for each ID\n",
    "    date_ranges = pivoted.groupby('user_id')['date'].agg(['min', 'max']).reset_index()\n",
    "    date_ranges['started_date'] = date_ranges.apply(lambda row: pd.date_range(row['min'], row['max'], freq='D'), axis=1)\n",
    "    \n",
    "    # Create a Cartesian product of IDs and date ranges\n",
    "    cartesian = date_ranges.explode('started_date').reset_index(drop=True)\n",
    "    #\n",
    "    # Complete the original df with a continuous timeline\n",
    "    pivoted_filled = pd.merge(pivoted, cartesian[['user_id', 'started_date']], how='outer', left_on=['user_id', 'date'], right_on=['user_id', 'started_date'])\n",
    "    del pivoted_filled['started_date']\n",
    "\n",
    "    \n",
    "    # Fill missing values in the modes columns\n",
    "    modes_columns = ['Mode::Airplane', 'Mode::Bicycle', 'Mode::Bus', 'Mode::Car', 'Mode::Train', 'Mode::Tram', 'Mode::Walk']\n",
    "    for col in modes_columns:\n",
    "        pivoted_filled[col] = pivoted_filled[col].fillna(0)  # Fill NaN values with 0 for the modes\n",
    "    \n",
    "    # Sort the resulting DataFrame\n",
    "    pivoted_filled.sort_values(by=['user_id', 'date'], inplace=True)\n",
    "    \n",
    "    return pivoted_filled\n",
    "\n"
   ]
  },
  {
   "cell_type": "code",
   "execution_count": null,
   "id": "1679141d-6848-4b96-80f8-9cbb0206d185",
   "metadata": {},
   "outputs": [],
   "source": [
    "get_modal_distances(df)"
   ]
  },
  {
   "cell_type": "code",
   "execution_count": null,
   "id": "ba954a6d-2c3e-437b-9dfd-d3425a7992fd",
   "metadata": {},
   "outputs": [],
   "source": []
  },
  {
   "cell_type": "code",
   "execution_count": null,
   "id": "eb5f24f0-ce5a-4c69-863c-734092fe66f9",
   "metadata": {},
   "outputs": [],
   "source": [
    "#Check if the code works\n",
    "df.loc[(df.previous_mode == 'Mode::Walk') & (df.user_id_day == 'CH10223_20230502')]"
   ]
  },
  {
   "cell_type": "code",
   "execution_count": null,
   "id": "3a1d23de-20c6-44e7-9db8-06ef3823ccf2",
   "metadata": {},
   "outputs": [],
   "source": []
  },
  {
   "cell_type": "code",
   "execution_count": null,
   "id": "722a42cc-d5c4-4177-9a6c-c871a139652f",
   "metadata": {},
   "outputs": [],
   "source": []
  },
  {
   "cell_type": "code",
   "execution_count": null,
   "id": "b0be2f73-05dd-4de9-bea2-8cc525312c20",
   "metadata": {},
   "outputs": [],
   "source": []
  },
  {
   "cell_type": "code",
   "execution_count": null,
   "id": "f3246188-a4e5-43bc-9b04-5416a121f10d",
   "metadata": {},
   "outputs": [],
   "source": []
  },
  {
   "cell_type": "code",
   "execution_count": null,
   "id": "cf7cb925-afca-4104-9481-d6b19dc4f4d5",
   "metadata": {},
   "outputs": [],
   "source": []
  },
  {
   "cell_type": "code",
   "execution_count": null,
   "id": "110378ae-e313-4d27-a3a6-befe25415829",
   "metadata": {},
   "outputs": [],
   "source": []
  },
  {
   "cell_type": "code",
   "execution_count": null,
   "id": "47b83724-431d-4c3a-8344-dd9ee8a2bec7",
   "metadata": {},
   "outputs": [],
   "source": []
  },
  {
   "cell_type": "code",
   "execution_count": null,
   "id": "10c4f072-461a-4486-9d0b-416c2fa93ed9",
   "metadata": {},
   "outputs": [],
   "source": []
  },
  {
   "cell_type": "markdown",
   "id": "02bc90d9-58b2-4a6c-9b9d-a60a6f515ab9",
   "metadata": {},
   "source": [
    "### Drop some duplicates and Compute and save the distance indicators"
   ]
  },
  {
   "cell_type": "code",
   "execution_count": null,
   "id": "27260ddc-6847-432d-b5d2-d0d9245ed61f",
   "metadata": {},
   "outputs": [],
   "source": [
    "distances_N_KT = staypoints_N_KT[['activity_id', 'purpose', 'user_id', \n",
    "                              'previous_leg_id', 'scattered_tracking', 'started_at', 'finished_at', 'started_date', \n",
    "                              'user_residence_in_KT', 'activity_in_KT', 'Typo_user_home', 'ID_Gem_user_home', 'ID_Gem_activity']].copy()"
   ]
  },
  {
   "cell_type": "code",
   "execution_count": null,
   "id": "d2756023-5a1e-4bf2-942f-3eb66549c27b",
   "metadata": {},
   "outputs": [],
   "source": [
    "%%time\n",
    "\n",
    "distances_N_KT = pd.merge(distances_N_KT, legs_N_KT[['detected_mode', 'mode', 'canton_dep',\n",
    "       'low_quality_legs_1', 'low_quality_legs_2','next_activity_id', 'length', 'duration']].dropna(subset='next_activity_id'),\n",
    "                       left_on='activity_id',right_on='next_activity_id', how='left')\n",
    "del distances_N_KT['next_activity_id']"
   ]
  },
  {
   "cell_type": "code",
   "execution_count": null,
   "id": "05120ffe-5e16-4cdb-9ccd-94d5ee5daf5f",
   "metadata": {},
   "outputs": [],
   "source": [
    "distances_N_KT"
   ]
  },
  {
   "cell_type": "code",
   "execution_count": null,
   "id": "9a30cfa2-f678-4493-98f7-9fce5fd2f4e5",
   "metadata": {},
   "outputs": [],
   "source": []
  },
  {
   "cell_type": "code",
   "execution_count": null,
   "id": "ffd89cd2-7381-4e00-89a9-dd0c15966603",
   "metadata": {},
   "outputs": [],
   "source": []
  },
  {
   "cell_type": "code",
   "execution_count": null,
   "id": "1089895b-6817-40ae-af03-0134e1ec9781",
   "metadata": {},
   "outputs": [],
   "source": []
  },
  {
   "cell_type": "code",
   "execution_count": null,
   "id": "80bb16b2-c1ef-4c20-9c7c-e4591b76ccb0",
   "metadata": {},
   "outputs": [],
   "source": []
  },
  {
   "cell_type": "code",
   "execution_count": null,
   "id": "853ed213-1391-4ed2-a318-8bfb60890213",
   "metadata": {},
   "outputs": [],
   "source": []
  },
  {
   "cell_type": "code",
   "execution_count": null,
   "id": "875309d2-577a-4020-95d4-e064559b57ae",
   "metadata": {},
   "outputs": [],
   "source": []
  },
  {
   "cell_type": "markdown",
   "id": "8e206b28-08a1-4a5f-971a-5379de51a7f9",
   "metadata": {},
   "source": [
    "### Reimport file for delivered to Canton an merge it to my file"
   ]
  },
  {
   "cell_type": "code",
   "execution_count": null,
   "id": "8950e67e-31db-47fe-b2b0-1020ea74181c",
   "metadata": {},
   "outputs": [],
   "source": [
    "%%time \n",
    "\n",
    "pickle_file_path = \"staypoints_filtered_with_sociodemo_withoutIDNO.pkl\"\n",
    "sociodemo = pd.read_pickle(pickle_file_path)\n",
    "\n",
    "#Get all the pseudo user_ids\n",
    "#pseudo = staypoints[['activity_id','user_id']].drop_duplicates().dropna().merge(\n",
    "#    sociodemo[['id','jointure_g']].drop_duplicates().dropna(),\n",
    "#    left_on='activity_id', right_on='id', how='left')[['user_id','jointure_g']].drop_duplicates()\n",
    "#pseudo.rename(columns={'jointure_g':'user_id_pseudo', 'user_id':'IDNO'}, inplace=True)\n",
    "#pseudo.to_pickle(f'pseudo_user_ids.pkl')\n",
    "pseudo = pd.read_pickle('pseudo_user_ids.pkl')\n",
    "\n",
    "IDNO_info = pd.read_pickle('days_of_observation.pkl')"
   ]
  },
  {
   "cell_type": "code",
   "execution_count": null,
   "id": "b05930ab-a296-4b4d-b40d-2d649194cbd9",
   "metadata": {},
   "outputs": [],
   "source": [
    "IDNO_info = IDNO_info.merge(pseudo, on='IDNO', how='left')\n",
    "distances_N_KT = distances_N_KT.merge(IDNO_info, left_on='user_id', right_on='IDNO', how='left')"
   ]
  },
  {
   "cell_type": "code",
   "execution_count": null,
   "id": "0c7e9c36-44c2-439e-88ec-7e70d1f4e8d4",
   "metadata": {},
   "outputs": [],
   "source": [
    "%%time\n",
    "\n",
    "distances_N_KT = distances_N_KT.dropna(subset='user_id_pseudo').merge(sociodemo[['jointure_g','gdr', 'age', 'educ_ch', 'educ_fr', 'prof', 'wgt_cant_t', 'wgt_agg_tr']], left_on='user_id_pseudo', right_on='jointure_g', how='left')\n",
    "del distances_N_KT['jointure_g']\n",
    "del sociodemo\n",
    "del distances_N_KT['IDNO']\n",
    "\n",
    "distances_N_KT.rename(columns={'gdr':'genre'}, inplace=True)"
   ]
  },
  {
   "cell_type": "code",
   "execution_count": null,
   "id": "c6ace5a3-d38b-41ed-ac9c-0f360c07b8b2",
   "metadata": {},
   "outputs": [],
   "source": [
    "distances_N_KT = distances_N_KT.dropna(subset='activity_id').sort_values(by=['user_id', 'started_date', 'length'])\n",
    "distances_N_KT.drop_duplicates(subset='activity_id', keep='last', inplace=True)"
   ]
  },
  {
   "cell_type": "code",
   "execution_count": null,
   "id": "074ce85d-ad75-46c5-b858-5bb686c7f047",
   "metadata": {},
   "outputs": [],
   "source": [
    "#loss compared to ariginal staypoint df\n",
    "1- len(distances_N_KT) / len(staypoints_N_KT)"
   ]
  },
  {
   "cell_type": "code",
   "execution_count": null,
   "id": "7c776c62-ddbf-4c80-bc2f-27ad102609e3",
   "metadata": {},
   "outputs": [],
   "source": [
    "#Cheeck for duplicates\n",
    "distances_N_KT[distances_N_KT.duplicated('activity_id')]"
   ]
  },
  {
   "cell_type": "markdown",
   "id": "11203ce0-5232-488f-a67f-0553f835a830",
   "metadata": {},
   "source": [
    "### Temporary saves"
   ]
  },
  {
   "cell_type": "code",
   "execution_count": null,
   "id": "0ab525c4-e0ca-4e1a-a7e5-f8d67127b8a3",
   "metadata": {},
   "outputs": [],
   "source": [
    "# Save whole file\n",
    "distances_N_KT.to_pickle(f'temp_files/distances_N_KT.pkl')\n",
    "legs_N_KT.to_pickle(f'temp_files/legs_N_KT.pkl')"
   ]
  },
  {
   "cell_type": "code",
   "execution_count": null,
   "id": "3cc312ee-65f1-446e-b166-d6160b638492",
   "metadata": {},
   "outputs": [],
   "source": [
    "# Read the entire pickle file into memory\n",
    "distances_N_KT = pd.read_pickle('temp_files/distances_N_KT.pkl')\n",
    "legs_N_KT = pd.read_pickle('temp_files/legs_N_KT.pkl')"
   ]
  },
  {
   "cell_type": "code",
   "execution_count": null,
   "id": "3bed9fd5-f842-437b-89f8-41450a05d2d8",
   "metadata": {},
   "outputs": [],
   "source": [
    "distances_N_KT.columns"
   ]
  },
  {
   "cell_type": "code",
   "execution_count": null,
   "id": "a8012ad5-f982-47f0-ba35-082fcc6d1b49",
   "metadata": {},
   "outputs": [],
   "source": [
    "import pandas as pd\n",
    "\n",
    "# Custom aggregation function to calculate the ratio\n",
    "def ratio(series):\n",
    "    total_low_quality = series.sum()\n",
    "    total_trips = len(series)\n",
    "    return total_low_quality / total_trips\n",
    "\n",
    "# Create an ExcelWriter object to save multiple DataFrames to different tabs\n",
    "with pd.ExcelWriter('temp_files/distances_N_KT_panel.xlsx', engine='xlsxwriter') as writer:\n",
    "    aggreg_cols = {\n",
    "        'TYPO_territoire_de_residence': 'Typo_user_home',\n",
    "        'KT_territoire_de_residence': 'canton_dep'\n",
    "    }\n",
    "\n",
    "    for sheet_name, aggreg_col in aggreg_cols.items():\n",
    "        # Group by user_id, mode, and purpose\n",
    "        grouped_df = distances_N_KT[['user_residence_in_N_KT', 'activity_in_N_KT', 'mode', 'purpose','length', 'user_id_pseudo', 'started_date', 'duration', 'low_quality_legs_1', 'low_quality_legs_2', 'genre', 'age', 'educ_fr', 'educ_ch', 'prof','wgt_cant_t','wgt_agg_tr'] + [aggreg_col]].groupby(['user_residence_in_N_KT', 'activity_in_N_KT', 'mode', 'purpose', 'user_id_pseudo'] + [aggreg_col])\n",
    "                \n",
    "        result_df = grouped_df.agg({\n",
    "            'length': ['sum', 'count'],\n",
    "            'started_date': 'nunique',\n",
    "            'duration': 'sum',\n",
    "            'low_quality_legs_1': ratio, \n",
    "            'low_quality_legs_2': ratio,\n",
    "            'genre': 'first',\n",
    "            'age': 'first',\n",
    "            'educ_fr': 'first',\n",
    "            'educ_ch': 'first',\n",
    "            'prof': 'first',\n",
    "            'wgt_cant_t': 'first',\n",
    "            'wgt_agg_tr': 'first',\n",
    "        }).reset_index()\n",
    "\n",
    "        # Flatten the MultiIndex columns\n",
    "        result_df.columns = [f'{col[0]}_{col[1]}' if col[1] else col[0] for col in result_df.columns]\n",
    "\n",
    "        # Save the result_df to a new Excel tab\n",
    "        result_df.to_excel(writer, sheet_name=sheet_name, index=False)\n",
    "\n",
    "    # Add the additional sheet\n",
    "    additional_sheet_df = distances_N_KT[['user_id_pseudo', 'Min Date', 'Max Date', 'Track duration', 'Number of observation', 'Missing Dates', 'Max Gap Between Days']].drop_duplicates().reset_index(drop=True).rename(columns={'Number of observation': 'Days with tracking'})\n",
    "    additional_sheet_df.to_excel(writer, sheet_name='Jours_enquete_par_enquete', index=False)\n"
   ]
  },
  {
   "cell_type": "code",
   "execution_count": null,
   "id": "da548169-98e7-4638-b465-0f7e8e387c1e",
   "metadata": {},
   "outputs": [],
   "source": [
    "distances_N_KT.loc[(distances_N_KT.Typo_user_home == 'central_urban_areas') & (distances_N_KT.user_residence_in_N_KT == 1), 'mode'].unique()"
   ]
  },
  {
   "cell_type": "code",
   "execution_count": null,
   "id": "59db2f2d-0f4f-4882-863c-21854b6daea8",
   "metadata": {},
   "outputs": [],
   "source": [
    "len(result_df.user_id_pseudo.unique())"
   ]
  },
  {
   "cell_type": "code",
   "execution_count": null,
   "id": "072a65d1-f9c0-466d-bc59-935723c8cdaa",
   "metadata": {},
   "outputs": [],
   "source": [
    "result_df['length_sum_per_day'] = result_df['length_sum'] / 1000 / result_df['started_date_nunique']\n",
    "result_df[result_df.user_residence_in_N_KT == 1].groupby(['mode']).agg({'length_sum_per_day':'mean'})"
   ]
  },
  {
   "cell_type": "code",
   "execution_count": null,
   "id": "56f0a5f8-0dc9-403f-b2b8-5de2e37e91e6",
   "metadata": {},
   "outputs": [],
   "source": [
    "distances_N_KT[['user_id_pseudo','Min Date', 'Max Date', 'Track duration','Number of observation', 'Missing Dates', 'Max Gap Between Days']].drop_duplicates().reset_index(drop=True).rename(columns={'Number of observation':'Days with tracking'})"
   ]
  },
  {
   "cell_type": "code",
   "execution_count": null,
   "id": "a714edea-4d51-46f2-83b5-2968ef436df5",
   "metadata": {},
   "outputs": [],
   "source": [
    "distances_N_KT.columns"
   ]
  },
  {
   "cell_type": "code",
   "execution_count": null,
   "id": "9074aab3-496d-41a1-8e9d-29225ee76f7b",
   "metadata": {},
   "outputs": [],
   "source": []
  }
 ],
 "metadata": {
  "kernelspec": {
   "display_name": "Python 3 (ipykernel)",
   "language": "python",
   "name": "python3"
  },
  "language_info": {
   "codemirror_mode": {
    "name": "ipython",
    "version": 3
   },
   "file_extension": ".py",
   "mimetype": "text/x-python",
   "name": "python",
   "nbconvert_exporter": "python",
   "pygments_lexer": "ipython3",
   "version": "3.12.2"
  }
 },
 "nbformat": 4,
 "nbformat_minor": 5
}
