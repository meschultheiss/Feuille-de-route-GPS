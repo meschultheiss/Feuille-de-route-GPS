{
 "cells": [
  {
   "cell_type": "markdown",
   "id": "b711749e-894f-46b3-ab1f-700f186d9938",
   "metadata": {},
   "source": [
    "# Explorer les valeurs extrêmes\n",
    "Dans ce notebook nous explorons les valeurs extrêmes liées aux pertes de signal, aux durées par motif et aux distances par mode.\n",
    "Nous explorons aussi qui sont les usagers qui disparaissent."
   ]
  },
  {
   "cell_type": "code",
   "execution_count": null,
   "id": "484ea5ce-dbcd-435e-bb3d-ece402e124df",
   "metadata": {},
   "outputs": [],
   "source": [
    "%load_ext autoreload\n",
    "\n",
    "import geopandas as gpd\n",
    "import pandas as pd\n",
    "pd.set_option('display.max_columns', None)\n",
    "import numpy as np\n",
    "\n",
    "from shapely import geometry, ops\n",
    "from shapely.geometry import MultiLineString, LineString, Point\n",
    "import os\n",
    "from shapely import wkb\n",
    "import binascii\n",
    "import pandas as pd\n",
    "import geopandas as gpd\n",
    "import plotly.express as px\n",
    "import matplotlib.pyplot as plt\n",
    "import seaborn as sns\n",
    "import xyt\n",
    "\n",
    "import time"
   ]
  },
  {
   "cell_type": "markdown",
   "id": "188947f4-f2ca-4ed1-919c-749c5f721505",
   "metadata": {},
   "source": [
    "## Charger les données"
   ]
  },
  {
   "cell_type": "code",
   "execution_count": null,
   "id": "d1d096c5-3fa4-4bc0-9f88-7bbafba1e923",
   "metadata": {},
   "outputs": [],
   "source": [
    "#Charger les activités\n",
    "staypoints = pd.read_pickle('../Data/dumps_motiontag/storyline_formated/staypoints.pkl').reset_index(drop=True)\n",
    "print(\"Fichier activité chargé\")\n",
    "\n",
    "#Charger les étapes\n",
    "legs = pd.read_pickle('../Data/processed_feuille_de_route/legs.pkl')\n",
    "print(\"Fichier étape chargé\")"
   ]
  },
  {
   "cell_type": "markdown",
   "id": "934eb6cd-ff1d-4f01-9794-b51faae339e3",
   "metadata": {},
   "source": [
    "## Durée des activités aux waypoints"
   ]
  },
  {
   "cell_type": "code",
   "execution_count": null,
   "id": "231c33fb-e679-41c7-9857-1767701a7e8a",
   "metadata": {},
   "outputs": [],
   "source": [
    "durations = staypoints[['purpose','started_at','finished_at']].copy()\n",
    "durations['duration'] = (durations.finished_at - durations.started_at).dt.total_seconds() / 60\n",
    "durations.head(3)"
   ]
  },
  {
   "cell_type": "code",
   "execution_count": null,
   "id": "277b7303-d65b-45e9-813c-a436573dd870",
   "metadata": {},
   "outputs": [],
   "source": [
    "durations[(durations.duration > 1440) & (durations.purpose != 'home')]"
   ]
  },
  {
   "cell_type": "code",
   "execution_count": null,
   "id": "841a9d1b-4f49-4e52-8c27-3fc0f2e3d7c8",
   "metadata": {},
   "outputs": [],
   "source": [
    "# Plotting the distribution of duration per purpose using seaborn\n",
    "plt.figure(figsize=(10, 6))\n",
    "\n",
    "# Sorting by mean duration per purpose\n",
    "sorted_order = durations.groupby('purpose')['duration'].mean().sort_values().index\n",
    "\n",
    "# Creating a violin plot to show distribution, with durations less than 800\n",
    "sns.violinplot(x='purpose', y='duration', data=durations[durations['duration'] < 1440], \n",
    "               order=sorted_order, cut=0, hue='purpose', inner=None,\n",
    "               palette=['white'], linewidth=1.5)\n",
    "\n",
    "# Adding titles and labels\n",
    "plt.title(\"Distribution de la durées des 'waypoints' par motif \\n tronqué à 1440 min (24h) \\n\", fontsize=12)\n",
    "plt.xlabel(\"Motif de l'étape \\n\", fontsize=12)\n",
    "plt.ylabel('Durée (minutes) \\n', fontsize=12)\n",
    "\n",
    "# Customizing x-axis labels\n",
    "plt.xticks(rotation=45, fontsize=12, ha='right')\n",
    "# Customizing y-axis labels\n",
    "plt.yticks(fontsize=12)\n",
    "\n",
    "# Removing legend since it's not necessary for this plot\n",
    "#plt.legend().set_visible(False)\n",
    "\n",
    "# Save the plot as a PNG file\n",
    "#plt.savefig('../Data/temp_files/duration_distribution_per_purpose.png', format='png',bbox_inches='tight')\n",
    "\n",
    "# Display the plot\n",
    "plt.show()"
   ]
  },
  {
   "cell_type": "code",
   "execution_count": null,
   "id": "e9d30ed2-36bf-470e-a024-d638f0250ca0",
   "metadata": {},
   "outputs": [],
   "source": [
    "# Add count percentage column\n",
    "total_count = durations['purpose'].value_counts(normalize=True) * 100\n",
    "\n",
    "# Statistical summary for the 'duration' grouped by 'purpose'\n",
    "summary = durations.groupby('purpose')['duration'].describe(percentiles=[0.95, 0.98])\n",
    "summary = summary.rename(columns={\n",
    "    'mean': 'Durée moyenne [min]',\n",
    "    'std': 'Écart-type',\n",
    "    'min': 'Durée min  [min]',\n",
    "    '25%': '1er Quartile',\n",
    "    '50%': 'Médiane',\n",
    "    '75%': '3e Quartile',\n",
    "    '95%': '95e Percentile',\n",
    "    '98%': '98e Percentile',\n",
    "    'max': 'Durée max  [min]'\n",
    "})\n",
    "\n",
    "# Add count percentage to summary\n",
    "summary['Occurence (%)'] = total_count\n",
    "del summary['count']\n",
    "\n",
    "# Keep only one decimal place\n",
    "summary = summary.round(1)\n",
    "\n",
    "# Sort by mean\n",
    "summary = summary.sort_values(by='Durée moyenne [min]', ascending=False)\n",
    "\n",
    "summary"
   ]
  },
  {
   "cell_type": "markdown",
   "id": "752fb1ae-c52b-4fde-98bf-e77ea09d63e1",
   "metadata": {},
   "source": [
    "## Modes detectés et modes inferrés"
   ]
  },
  {
   "cell_type": "code",
   "execution_count": null,
   "id": "e0ab0f7a-bd11-48b1-9252-1af570ac54a9",
   "metadata": {},
   "outputs": [],
   "source": [
    "legs.columns"
   ]
  },
  {
   "cell_type": "code",
   "execution_count": null,
   "id": "4b7465c9-fddf-44a8-9be8-4c651b4cbb95",
   "metadata": {},
   "outputs": [],
   "source": [
    "infer = legs[['detected_mode','mode', 'misdetected_completely', 'confirmed_at', 'updated_at']]\n",
    "infer.head()"
   ]
  },
  {
   "cell_type": "code",
   "execution_count": null,
   "id": "b604a988-2995-4fde-9e16-69e05c56198f",
   "metadata": {},
   "outputs": [],
   "source": [
    "len(infer.iloc[np.where(infer['detected_mode'] !=infer['mode'])]) / len(infer)"
   ]
  },
  {
   "cell_type": "code",
   "execution_count": null,
   "id": "e5e57fe3-8f64-4480-86ad-b2d6b3ff5429",
   "metadata": {},
   "outputs": [],
   "source": [
    "infer.iloc[np.where(infer['detected_mode'] !=infer['mode'])]"
   ]
  },
  {
   "cell_type": "code",
   "execution_count": null,
   "id": "e85f74e9-27d3-430a-a813-c3d6e66475d0",
   "metadata": {},
   "outputs": [],
   "source": [
    "sum(infer.confirmed_at.isna()) / len(infer)"
   ]
  },
  {
   "cell_type": "code",
   "execution_count": null,
   "id": "9b93f146-4e8f-447c-a220-a09430edb716",
   "metadata": {},
   "outputs": [],
   "source": [
    "sum(infer.updated_at.isna())"
   ]
  },
  {
   "cell_type": "code",
   "execution_count": null,
   "id": "80c1277d-b2a7-4a86-9022-a4caaa6a1fa2",
   "metadata": {},
   "outputs": [],
   "source": []
  },
  {
   "cell_type": "code",
   "execution_count": null,
   "id": "a7b6eefc-92e4-4c02-b767-3adec1edbd94",
   "metadata": {},
   "outputs": [],
   "source": [
    "%autoreload\n",
    "xyt.plot_gps(legs[legs.misdetected_completely=='t'].rename(columns={'user_id_fors':'user_id'}), geo_columns='geometry')\n"
   ]
  },
  {
   "cell_type": "code",
   "execution_count": null,
   "id": "0816f23b-842f-476b-93b3-f282736d8af4",
   "metadata": {},
   "outputs": [],
   "source": [
    "legs[legs.misdetected_completely=='t'].rename(columns={'user_id_fors':'user_id'}).dropna()"
   ]
  },
  {
   "cell_type": "code",
   "execution_count": null,
   "id": "441727e8-2858-4c8a-ab4d-b586c27038ca",
   "metadata": {},
   "outputs": [],
   "source": [
    "legs.misdetected_completely.value_counts(normalize=True)"
   ]
  },
  {
   "cell_type": "code",
   "execution_count": null,
   "id": "932faeb9-258d-4981-8987-5bc0fdf86446",
   "metadata": {},
   "outputs": [],
   "source": []
  },
  {
   "cell_type": "code",
   "execution_count": null,
   "id": "b255d19d-ccf9-4b53-997c-6b0d4d69fe41",
   "metadata": {},
   "outputs": [],
   "source": []
  },
  {
   "cell_type": "markdown",
   "id": "d9d64a73-97be-40fd-9811-c3020b826c54",
   "metadata": {},
   "source": [
    "## Distances des étapes par mode"
   ]
  },
  {
   "cell_type": "code",
   "execution_count": null,
   "id": "c4a9532c-c2ff-4d49-a73d-2fbc5fa27d65",
   "metadata": {},
   "outputs": [],
   "source": [
    "legs.columns"
   ]
  },
  {
   "cell_type": "code",
   "execution_count": null,
   "id": "85e0e870-5bfc-481a-86ef-a89e39b93111",
   "metadata": {},
   "outputs": [],
   "source": [
    "distances = legs[['leg_id','started_at','finished_at','length','detected_mode','mode','misdetected_completely']].copy()\n",
    "distances['duration'] = (distances.finished_at - distances.started_at).dt.total_seconds() / 60\n",
    "distances.head()"
   ]
  },
  {
   "cell_type": "code",
   "execution_count": null,
   "id": "58285c34-2fd4-4c3b-b3f2-35b1562d1186",
   "metadata": {},
   "outputs": [],
   "source": [
    "# Explore\n",
    "#distances[(distances.length < 10000) & (distances['mode'] == 'Mode::Airplane')]"
   ]
  },
  {
   "cell_type": "code",
   "execution_count": null,
   "id": "7aaa6ee2-4e78-4759-9496-0c580fe97c9d",
   "metadata": {},
   "outputs": [],
   "source": [
    "# Statistical summary for the 'duration' grouped by 'mode'\n",
    "summary = distances.groupby('detected_mode')['duration'].describe(percentiles=[0.95, 0.98]).astype(int)\n",
    "summary = summary.rename(columns={\n",
    "    'mean': 'Durée moyenne [min]',\n",
    "    'std': 'Écart-type',\n",
    "    'min': 'Durée min  [min]',\n",
    "    '25%': '1er Quartile',\n",
    "    '50%': 'Médiane',\n",
    "    '75%': '3e Quartile',\n",
    "    '95%': '95e Percentile',\n",
    "    '98%': '98e Percentile',\n",
    "    'max': 'Durée max  [min]'\n",
    "})\n",
    "summary"
   ]
  },
  {
   "cell_type": "code",
   "execution_count": null,
   "id": "aca09327-8a08-424c-abb3-3003f8136037",
   "metadata": {},
   "outputs": [],
   "source": [
    "# Statistical summary for the 'length' grouped by 'mode'\n",
    "summary = distances.groupby('detected_mode')['length'].describe(percentiles=[0.95, 0.98]).astype(int)\n",
    "summary = summary.rename(columns={\n",
    "    'mean': 'Distance moyenne [m]',\n",
    "    'std': 'Écart-type',\n",
    "    'min': 'Distance min  [m]',\n",
    "    '25%': '1er Quartile',\n",
    "    '50%': 'Médiane',\n",
    "    '75%': '3e Quartile',\n",
    "    '95%': '95e Percentile',\n",
    "    '98%': '98e Percentile',\n",
    "    'max': 'Distance max [m]'\n",
    "})\n",
    "summary"
   ]
  },
  {
   "cell_type": "code",
   "execution_count": null,
   "id": "7717c7c2-70eb-4125-9475-de5af56e292b",
   "metadata": {},
   "outputs": [],
   "source": [
    "# Statistical summary for the 'length' grouped by 'mode'\n",
    "summary = distances[distances.misdetected_completely == 'f'].groupby('mode')['length'].describe(percentiles=[0.95, 0.98]).astype(int)\n",
    "summary = summary.rename(columns={\n",
    "    'mean': 'Distance moyenne [m]',\n",
    "    'std': 'Écart-type',\n",
    "    'min': 'Distance min  [m]',\n",
    "    '25%': '1er Quartile',\n",
    "    '50%': 'Médiane',\n",
    "    '75%': '3e Quartile',\n",
    "    '95%': '95e Percentile',\n",
    "    '98%': '98e Percentile',\n",
    "    'max': 'Distance max [m]'\n",
    "})\n",
    "summary"
   ]
  },
  {
   "cell_type": "code",
   "execution_count": null,
   "id": "dcbee1ed-461a-4eed-a48d-9be9c3a18c7e",
   "metadata": {},
   "outputs": [],
   "source": [
    "# Plot extreme values\n",
    "extreme_plane = legs.loc[(legs['mode'] == 'Mode::Airplane') & (legs.length_leg < 10000)].rename(columns={'user_id_fors':'user_id'})\n",
    "xyt.plot_gps(extreme_plane, geo_columns='geometry')\n"
   ]
  },
  {
   "cell_type": "code",
   "execution_count": null,
   "id": "57f0325c-0024-4cb0-9a93-ff2ee3355751",
   "metadata": {},
   "outputs": [],
   "source": [
    "legs.loc[(legs['mode'] == 'Mode::Airplane') & (legs.length_leg < 1000)]"
   ]
  },
  {
   "cell_type": "markdown",
   "id": "2de2c5d3-bb0e-4fe0-9d71-7f095fd0e49f",
   "metadata": {},
   "source": [
    "## Précision de détection"
   ]
  },
  {
   "cell_type": "code",
   "execution_count": null,
   "id": "3baa17a3-ecd9-4a5c-b38b-ea3fbd53295a",
   "metadata": {},
   "outputs": [],
   "source": [
    "len(legs)"
   ]
  },
  {
   "cell_type": "code",
   "execution_count": null,
   "id": "2e10275f-f888-4951-bbcb-d2b6d294c342",
   "metadata": {},
   "outputs": [],
   "source": [
    "# Pourcentage de trace gps validées\n",
    "len(legs[['mode','detected_mode','confirmed_at']].dropna()) / len(legs)"
   ]
  },
  {
   "cell_type": "code",
   "execution_count": null,
   "id": "6b6594fb-8f2e-473e-a1b3-6a68c1177aad",
   "metadata": {},
   "outputs": [],
   "source": []
  },
  {
   "cell_type": "code",
   "execution_count": null,
   "id": "3f1f5b44-331e-4ad9-b761-35cad84bdfb1",
   "metadata": {},
   "outputs": [],
   "source": [
    "condition1 = ~legs.confirmed_at.isna()\n",
    "condition2 = (pd.to_datetime(legs.confirmed_at) -  pd.to_datetime(legs.created_at)).dt.total_seconds() / 3600 < 48\n",
    "\n",
    "df = legs.loc[condition1 & condition2, ['mode','detected_mode']]\n",
    "\n",
    "# Step 1: Count occurrences where mode == detected_mode for each mode\n",
    "match_counts = df[df['mode'] == df['detected_mode']].groupby('mode').size()\n",
    "\n",
    "# Step 2: Count total occurrences of each mode in the 'mode' column\n",
    "total_counts = df.groupby('mode').size()\n",
    "\n",
    "# Step 3: Calculate the percentage of similarity\n",
    "similarity_percentage = (match_counts / total_counts) \n",
    "\n",
    "# Fill NaN values with 0 (if there are modes that don't have any matches)\n",
    "similarity_percentage = similarity_percentage.fillna(0)\n",
    "\n",
    "pd.DataFrame(similarity_percentage)"
   ]
  },
  {
   "cell_type": "code",
   "execution_count": null,
   "id": "5f317ebe-bc7e-4fc2-9352-37d24a3eb997",
   "metadata": {},
   "outputs": [],
   "source": []
  },
  {
   "cell_type": "code",
   "execution_count": null,
   "id": "2076ebd3-ccff-4df4-84ac-394e514d0235",
   "metadata": {},
   "outputs": [],
   "source": []
  },
  {
   "cell_type": "markdown",
   "id": "a1084907-2041-41f3-a7fc-b2bf3a1e8f0f",
   "metadata": {},
   "source": [
    "## Pertes de signal"
   ]
  },
  {
   "cell_type": "code",
   "execution_count": null,
   "id": "c6c36d0d-5a3b-4eb5-b01b-52b877352930",
   "metadata": {},
   "outputs": [],
   "source": []
  },
  {
   "cell_type": "code",
   "execution_count": null,
   "id": "798bb5d4-916d-4a84-a00f-b970601acffd",
   "metadata": {},
   "outputs": [],
   "source": []
  },
  {
   "cell_type": "code",
   "execution_count": null,
   "id": "1a54b96c-cf06-44bf-b161-25cece84bc52",
   "metadata": {},
   "outputs": [],
   "source": []
  },
  {
   "cell_type": "markdown",
   "id": "8866cd42-f7bc-4202-a762-31b8a6ffdbb0",
   "metadata": {},
   "source": [
    "## Discontinuités temporelles"
   ]
  },
  {
   "cell_type": "code",
   "execution_count": null,
   "id": "a38c0852-9580-4765-9925-099cd95f5534",
   "metadata": {},
   "outputs": [],
   "source": []
  },
  {
   "cell_type": "code",
   "execution_count": null,
   "id": "1cfaa9cc-057c-4dd0-bbe8-ab4e7e7be0ee",
   "metadata": {},
   "outputs": [],
   "source": []
  }
 ],
 "metadata": {
  "kernelspec": {
   "display_name": "Python 3 (ipykernel)",
   "language": "python",
   "name": "python3"
  },
  "language_info": {
   "codemirror_mode": {
    "name": "ipython",
    "version": 3
   },
   "file_extension": ".py",
   "mimetype": "text/x-python",
   "name": "python",
   "nbconvert_exporter": "python",
   "pygments_lexer": "ipython3",
   "version": "3.12.2"
  }
 },
 "nbformat": 4,
 "nbformat_minor": 5
}
