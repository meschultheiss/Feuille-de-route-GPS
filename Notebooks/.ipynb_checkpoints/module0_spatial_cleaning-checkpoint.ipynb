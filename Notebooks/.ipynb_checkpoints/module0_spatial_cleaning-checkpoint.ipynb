{
 "cells": [
  {
   "cell_type": "markdown",
   "id": "a5003603-5904-41a6-bd71-91cce763d32e",
   "metadata": {},
   "source": [
    "# Readme Panel Lémanique\n",
    "Ce notebook reprend les données brutes GPS 2023 du Panel Lémanique et en fourni une première phase de nettoyage et de filtrage des données. A savoir deux niveau de \"perte de signal\" identifiés par les colonnes 'low_quality_legs_1' (env. 5% de traces éliminées) et 'low_quality_legs_2' (env. 7% de traces éliminées).\n",
    "## GPS tracking\n",
    "Les données GPS sont issues de la phase de collecte sur 21 jours au printemps 2023.\n",
    "## Fichiers de base utilisés\n",
    "- Brut: gps_panel_lemanique_by_motion_tag.csv\n",
    "- Lines: lines.geojson, fichié fourni par Elisa Tirindelli le 17/08/23 --> renommé legs.geojson\n",
    "- Points: points.geojson, fichié fourni par Elisa Tirindelli le 17/08/23 --> renommé staypoints.geojson\n",
    "- Fichiers de raccordement: Localisation_domicile.csv par Florian Masse (trouvé sur le serveur LASUR)\n",
    "- Géoinformation: Verkehrszonen_Schweiz_NPVM_2017.shp, Zone de Trafic du modèle voyageur suisse\n",
    "- Questionnaire: EPFL_vague1_v4.csv, fourni par Alexis Gumy le 21/09/23\n",
    "## Nettoyage par Elisa\n",
    "- élimination des déplacements qui se répètent pour chaque personne plus qu’une fois (pour l'elimiation de bias dans des données)\n",
    "- élimination des déplacements “triangles” (déplacement qui revient au même endroit plusieurs fois), les déplacements qui partent (ou arrivent) deux fois du (au) même endroits\n",
    "- élimination des trajets (dans un même déplacement) qui partent plus tard qu’une demi heure après le trajet avant\n",
    "- corriger les déplacements qui contienne plus qu’un trajet sur la même ligne (regrouper tous les trajets consecutives sur une ligne dans un seul trajet)\n",
    "- corriger le temps de trajet (aussi la distance) du déplacement (les recalculer pour tenir en compte le trajets qui ont été éliminé)\n",
    "- réfléchir sur les déplacements qui comprennent plus que 3/4 trajets TP (assez improbable)\n",
    "## Nettoyage complémentaires par Marc-Edouard (voir dans le notebook ci-dessous)\n",
    "- Enlever les étapes avec perte de signal (i.e. discontinuous legs) -> perte de 530 traces / 669808\n",
    "- Segmentation des données par Canton pour faciliter la manipulation des données\n",
    "- Gérer les legs non géolocalisés (beeline between OD)\n",
    "- Calcul du nombre d'observation moyen par répondant.e\n",
    "\n",
    "## Spotted issues\n",
    "- 'CH14886', 'CH15539' are duplicates in the vague1_v4 file\n",
    "- 'FR13508', 'CH8035', 'CH14765' are not in the vague1_v4 file but appear in the gps file"
   ]
  },
  {
   "cell_type": "code",
   "execution_count": null,
   "id": "a4d69600-5761-467c-a60d-2edc1dff9f26",
   "metadata": {},
   "outputs": [],
   "source": [
    "import geopandas as gpd\n",
    "import pandas as pd\n",
    "pd.set_option('display.max_columns', None)\n",
    "import numpy as np\n",
    "\n",
    "from shapely import geometry, ops\n",
    "from shapely.geometry import MultiLineString, LineString, Point\n",
    "import os\n",
    "\n",
    "import time"
   ]
  },
  {
   "cell_type": "markdown",
   "id": "dabe421f-f4dd-4786-9ba8-65cb233c6cf0",
   "metadata": {},
   "source": [
    "## Data loading and preparation"
   ]
  },
  {
   "cell_type": "code",
   "execution_count": null,
   "id": "469aea0b-992c-432d-90ec-5a0dd63a163b",
   "metadata": {},
   "outputs": [],
   "source": [
    "%%time\n",
    "\n",
    "# Define the CRS you want to use (e.g., EPSG:4326 for WGS84)\n",
    "target_crs = 'EPSG:4326'\n",
    "\n",
    "# load geo data\n",
    "legs = pd.read_pickle('../Data/dumps_motiontag/storyline_formated/legs.pkl')\n"
   ]
  },
  {
   "cell_type": "markdown",
   "id": "2580044f-2a41-422d-b356-3b14647bcacb",
   "metadata": {},
   "source": [
    "#### Vérifier si nous avons que des linestrings\n",
    "Si non, se réferer au notebook `module0_parsestoryline`"
   ]
  },
  {
   "cell_type": "code",
   "execution_count": null,
   "id": "3b55d4e7-6827-49f0-95fd-d9cb2fe42975",
   "metadata": {},
   "outputs": [],
   "source": [
    "legs.geometry.geom_type.value_counts()"
   ]
  },
  {
   "cell_type": "markdown",
   "id": "803b435b-34af-454e-967a-9eaed2a16456",
   "metadata": {},
   "source": [
    "## Nettoyage des pertes de signal"
   ]
  },
  {
   "cell_type": "code",
   "execution_count": null,
   "id": "ac136e85-f1c4-47ee-9f21-ced672c44645",
   "metadata": {},
   "outputs": [],
   "source": [
    "## DEFINE THE MODE SPLIT TO APPLY DIFFERENT THRESHOLDS TO EACH MODE\n",
    "\n",
    "# We propose two level of threshold to be more or less selective in the thresholds (e.g., road_psr_1 and road_psr_2, etc)\n",
    "\n",
    "mode_road = ['Mode::Car', 'Mode::Motorbike', 'Mode::Bus', 'Mode::Tram', 'Mode::Subway', 'Mode::KickScooter', 'Mode::LightRail', 'Mode::Other','Mode::TaxiUber', 'Mode::Carsharing', 'Mode::Ecar']\n",
    "road_psa_1 = 8000\n",
    "road_psr_1 = 0.8\n",
    "road_psa_2 = 5000\n",
    "road_psr_2 = 0.6\n",
    "\n",
    "mode_rail = ['Mode::Train','Mode::RegionalTrain']\n",
    "rail_psa_1 = 100000\n",
    "rail_psr_1 = 0.65\n",
    "rail_psa_2 = 85000\n",
    "rail_psr_2 = 0.50\n",
    "\n",
    "mode_active = ['Mode::Bicycle', 'Mode::Ebicycle', 'Mode::Walk']\n",
    "active_psa_1 = 800\n",
    "active_psr_1 = 0.8\n",
    "active_psa_2 = 750\n",
    "active_psr_2 = 0.7\n",
    "\n",
    "mode_plane_boat = ['Mode::Boat', 'Mode::Airplane']\n",
    "plane_boat_psa_1 = 0\n",
    "plane_boat_psr_1 = 0\n",
    "plane_boat_psa_2 = 0\n",
    "plane_boat_psr_2 = 0\n",
    "\n",
    "# Create dictionaries for each category\n",
    "road_category_1 = {'modes': mode_road, 'psa': road_psa_1, 'psr': road_psr_1}\n",
    "rail_category_1 = {'modes': mode_rail, 'psa': rail_psa_1, 'psr': rail_psr_1}\n",
    "active_category_1 = {'modes': mode_active, 'psa': active_psa_1, 'psr': active_psr_1}\n",
    "plane_boat_category_1 = {'modes': mode_plane_boat, 'psa': plane_boat_psa_1, 'psr': plane_boat_psr_1}\n",
    "\n",
    "road_category_2 = {'modes': mode_road, 'psa': road_psa_2, 'psr': road_psr_2}\n",
    "rail_category_2 = {'modes': mode_rail, 'psa': rail_psa_2, 'psr': rail_psr_2}\n",
    "active_category_2 = {'modes': mode_active, 'psa': active_psa_2, 'psr': active_psr_2}\n",
    "plane_boat_category_2 = {'modes': mode_plane_boat, 'psa': plane_boat_psa_2, 'psr': plane_boat_psr_2}\n",
    "\n",
    "# Create a dictionary to store the categories\n",
    "signal_categories = [{\n",
    "    'road': road_category_1,\n",
    "    'rail': rail_category_1,\n",
    "    'mode_active': active_category_1,\n",
    "    'mode_plane_boat': plane_boat_category_1},{\n",
    "    'road': road_category_2,\n",
    "    'rail': rail_category_2,\n",
    "    'mode_active': active_category_2,\n",
    "    'mode_plane_boat': plane_boat_category_2}]\n",
    "\n",
    "# Example: Accessing values for the 'road' category\n",
    "print(\"Category: road\")\n",
    "print(\"Modes:\", signal_categories[1]['road']['modes'])\n",
    "print(\"PSA:\", signal_categories[1]['road']['psa'])\n",
    "print(\"PSR:\", signal_categories[1]['road']['psr'])"
   ]
  },
  {
   "cell_type": "code",
   "execution_count": null,
   "id": "82786a8d-553d-45cf-815b-b51332d04115",
   "metadata": {},
   "outputs": [],
   "source": [
    "# Function to calculate the maximum distance in meters between two points in a LineString\n",
    "def calculate_max_distance(line):\n",
    "    # Extract the coordinates of the LineString into a list of points\n",
    "    points = list(line.coords)\n",
    "    \n",
    "    # Initialize a list to store the distances between consecutive points\n",
    "    distances = []\n",
    "\n",
    "    # Iterate through the points to calculate and store the distances\n",
    "    for i in range(len(points) - 1):\n",
    "        point1 = Point(points[i])\n",
    "        point2 = Point(points[i + 1])\n",
    "        distance = point1.distance(point2)\n",
    "        distances.append(distance)\n",
    "\n",
    "    # Find the maximum distance from the list of distances\n",
    "    max_distance = max(distances)\n",
    "    \n",
    "    return max_distance"
   ]
  },
  {
   "cell_type": "code",
   "execution_count": null,
   "id": "d4586063-c914-4770-b95c-b912abea0a04",
   "metadata": {},
   "outputs": [],
   "source": [
    "%%time\n",
    "## !!! This one takes a while (around 60min) !\n",
    "legs_ = legs.to_crs(crs=\"EPSG:2056\").copy()\n",
    "# Apply the calculate_max_distance function to the GeoSeries and store the result in a new column\n",
    "legs_['max_signlalloss_meters'] = legs_.apply(lambda row: calculate_max_distance(row['geometry']), axis=1)\n",
    "\n",
    "# Compute the lenght of each leg\n",
    "legs_['length_leg'] = legs_['geometry'].apply(lambda geom: geom.length)\n",
    "\n",
    "# Compute the relative signal loss\n",
    "legs_['rel_max_signalloss'] = legs_['max_signlalloss_meters'].div(legs_['length_leg'])\n",
    "\n",
    "# Save as temp file in case of crash\n",
    "#legs_.to_pickle(\"../Data/temp_files/legs_rel_max_signal_loss.pkl\")"
   ]
  },
  {
   "cell_type": "code",
   "execution_count": null,
   "id": "08bba8f0-7399-4be1-a872-43610f9cb817",
   "metadata": {},
   "outputs": [],
   "source": [
    "%%time\n",
    "##TRY this parralilazation approach instead ?\n",
    "#import dask.dataframe as dd\n",
    "#\n",
    "#legs_ = legs.to_crs(crs=\"EPSG:2056\").copy()\n",
    "## Convert GeoPandas dataframe to Dask GeoDataFrame\n",
    "#legs_dask = dd.from_pandas(legs_, npartitions=7)\n",
    "#\n",
    "## Define a function to calculate max distance\n",
    "#def calculate_max_distance_dask(geom):\n",
    "#    # Your calculate_max_distance function here\n",
    "#    pass\n",
    "#\n",
    "## Apply the function to the Dask GeoDataFrame\n",
    "#legs_dask['max_signlalloss_meters'] = legs_dask['geometry'].apply(calculate_max_distance_dask, meta=('geometry', 'float'))\n",
    "#legs_dask['length_leg'] = legs_dask['geometry'].apply(lambda geom: geom.length, meta=('geometry', 'float'))\n",
    "#legs_dask['rel_max_signalloss'] = legs_dask['max_signlalloss_meters'] / legs_dask['length_leg']\n",
    "#\n",
    "## Compute the results\n",
    "#legs_ = legs_dask.compute()"
   ]
  },
  {
   "cell_type": "code",
   "execution_count": null,
   "id": "c04c5e0f-e75b-429f-8e59-7507d8695987",
   "metadata": {},
   "outputs": [],
   "source": [
    "%%time\n",
    "\n",
    "# Add a column to flag the legs that we want to filter out\n",
    "legs_['low_quality_legs_1'] = 0\n",
    "legs_['low_quality_legs_2'] = 0\n",
    "# Flag the low quality legs\n",
    "\n",
    "for k, signal_categories_ in enumerate(signal_categories):\n",
    "    if k == 0:\n",
    "        threshold_col = 'low_quality_legs_1'\n",
    "    elif k == 1:\n",
    "        threshold_col = 'low_quality_legs_2'\n",
    "    print('NIVEAU DU SEUIL : ', k+1)\n",
    "    print('-------------------------')\n",
    "    for cat in signal_categories_:\n",
    "        #if cat == 'road':\n",
    "        #    continue\n",
    "        #else:\n",
    "        legs_.loc[(legs_['mode'].isin(signal_categories_[cat]['modes'])) & \n",
    "                 ((legs_.max_signlalloss_meters > signal_categories_[cat]['psa']) | \n",
    "                 (legs_.rel_max_signalloss > signal_categories_[cat]['psr'])), threshold_col] = 1\n",
    "\n",
    "        lost_traces = len(legs_.loc[(legs_['mode'].isin(signal_categories_[cat]['modes'])) \n",
    "                          & (legs_[threshold_col] == 1)]) / len(legs_.loc[legs_['mode'].isin(signal_categories_[cat]['modes'])]) * 100\n",
    "        \n",
    "        print('Category : ', cat, \n",
    "              ' | PSA : ', signal_categories_[cat]['psa'], \n",
    "              ' | PSR : ', signal_categories_[cat]['psr'], \n",
    "              ' \\n Part des traces perdues : ', round(lost_traces, 1), '%')\n",
    "    print('-------------------------')\n",
    "\n",
    "# Identify the users who are always bad in terms on signal acquisition\n",
    "legs_avg_signal_loss = legs_[['user_id_motiontag', 'max_signlalloss_meters', 'rel_max_signalloss']].groupby('user_id_motiontag').mean()#.unique()\n",
    "legs_avg_signal_loss.reset_index(inplace=True)\n",
    "list_of_bad_users_1 = legs_avg_signal_loss.loc[(legs_avg_signal_loss.rel_max_signalloss >\n",
    "                                              legs_avg_signal_loss.rel_max_signalloss.quantile(0.99)) |\n",
    "                                             (legs_avg_signal_loss.max_signlalloss_meters > \n",
    "                                              legs_avg_signal_loss.max_signlalloss_meters.quantile(0.99)), 'user_id_motiontag'].unique()\n",
    "list_of_bad_users_2 = legs_avg_signal_loss.loc[(legs_avg_signal_loss.rel_max_signalloss >\n",
    "                                              legs_avg_signal_loss.rel_max_signalloss.quantile(0.99)) |\n",
    "                                             (legs_avg_signal_loss.max_signlalloss_meters > \n",
    "                                              legs_avg_signal_loss.max_signlalloss_meters.quantile(0.99)), 'user_id_motiontag'].unique()\n",
    "legs_.loc[legs_.user_id_motiontag.isin(list_of_bad_users_1), 'low_quality_legs_1'] = 1\n",
    "legs_.loc[legs_.user_id_motiontag.isin(list_of_bad_users_2), 'low_quality_legs_2'] = 1\n",
    "print('List of users with constant low signal quality : ', list_of_bad_users_2, \n",
    "      '\\n eq. to ', round(len(list_of_bad_users_2) / len(legs_) * 100, 2), '%')\n",
    "print('-------------------------')\n"
   ]
  },
  {
   "cell_type": "code",
   "execution_count": null,
   "id": "4cdbc639-b6ec-4812-9ea1-ff630bc91968",
   "metadata": {},
   "outputs": [],
   "source": [
    "legs_['usr_w_constant_bad_signal'] = 0\n",
    "legs_.loc[legs_['user_id_motiontag'].isin(list_of_bad_users_1) | legs_['user_id_motiontag'].isin(list_of_bad_users_2), 'usr_w_constant_bad_signal'] = 1\n"
   ]
  },
  {
   "cell_type": "code",
   "execution_count": null,
   "id": "521f86aa-7c4c-46c1-b585-ee82ebfa9807",
   "metadata": {},
   "outputs": [],
   "source": [
    "#SAVE TO PICKLES\n",
    "legs_.to_crs(crs=target_crs).to_pickle(\"../Data/dumps_motiontag/storyline_time_space_filters/legs.pkl\")\n"
   ]
  },
  {
   "cell_type": "markdown",
   "id": "cfdece49-8e13-4668-a0d8-15f484a93329",
   "metadata": {},
   "source": [
    "### Control the loss"
   ]
  },
  {
   "cell_type": "code",
   "execution_count": null,
   "id": "2b08e09f-262e-4a38-b0b8-a20018ebfcff",
   "metadata": {},
   "outputs": [],
   "source": [
    "len(legs_[legs_.low_quality_legs_1 ==1]) / len(legs_)"
   ]
  },
  {
   "cell_type": "code",
   "execution_count": null,
   "id": "453cf0d7-a149-442f-9711-129a23722693",
   "metadata": {},
   "outputs": [],
   "source": [
    "len(legs_[legs_.low_quality_legs_2 == 1]) / len(legs_)"
   ]
  },
  {
   "cell_type": "markdown",
   "id": "87755ee5-956d-4d24-b88e-f79f21e8e92d",
   "metadata": {},
   "source": [
    "### Test the different thresholds (for sensitivity analyse)"
   ]
  },
  {
   "cell_type": "code",
   "execution_count": null,
   "id": "dbce56b2-00be-4aad-8ac8-d8a6465a8302",
   "metadata": {},
   "outputs": [],
   "source": [
    "for cat in signal_categories[0]:\n",
    "    print('\\n---')\n",
    "    print(cat)\n",
    "    df_sorted = legs_.loc[legs_['mode'].isin(signal_categories_[cat]['modes'])].sort_values(by=[\"rel_max_signalloss\", \"max_signlalloss_meters\"])\n",
    "    # Calculate the number of rows to keep 98% of the data\n",
    "    num_rows_to_keep = int(0.95 * len(df_sorted))\n",
    "    \n",
    "    # Select the rows that represent the top 98% of the data\n",
    "    df_filtered = df_sorted.iloc[:num_rows_to_keep]\n",
    "    \n",
    "    # Get the threshold values for \"rel_max_signalloss\" and \"max_signlalloss_meters\"\n",
    "    print('Threshold for max_signlalloss_meters', df_filtered[\"max_signlalloss_meters\"].max())\n",
    "    print('Threshold for rel_max_signalloss', df_filtered[\"rel_max_signalloss\"].max())"
   ]
  },
  {
   "cell_type": "code",
   "execution_count": null,
   "id": "8a2d7122-3555-4381-aab7-c92d964a113e",
   "metadata": {},
   "outputs": [],
   "source": [
    "len(legs_.loc[(legs_['mode'].isin(mode_active)) & \n",
    "            ((legs_.max_signlalloss_meters > 750) | \n",
    "            (legs_.rel_max_signalloss > 0.7))]) / len(legs_.loc[legs_['mode'].isin(mode_road)])"
   ]
  },
  {
   "cell_type": "markdown",
   "id": "8a55303d-cbac-4e7a-bcaf-c2c2eb482ac4",
   "metadata": {},
   "source": [
    "### Re-import pickles to save it to shapefiles and recombined the split pickles (in canton)"
   ]
  },
  {
   "cell_type": "code",
   "execution_count": null,
   "id": "9f86a151-616b-48a1-a5df-63837d0b64e7",
   "metadata": {},
   "outputs": [],
   "source": [
    "%%time\n",
    "# List of pickle file names\n",
    "pickle_files = [\n",
    "    'legs_FRA_filtered',\n",
    "    'legs_GG_FRA_filtered',\n",
    "    'legs_VD_part_1_filtered',\n",
    "    'legs_VD_part_2_filtered',\n",
    "    'legs_VD_part_3_filtered',\n",
    "    'legs_GE_filtered'\n",
    "]\n",
    "\n",
    "intput_directory = 'gps_canton'\n",
    "\n",
    "output_directory = 'gps_canton/shp'\n",
    "os.makedirs(output_directory)\n",
    "\n",
    "# Load and concatenate the pickle files\n",
    "dfs = []\n",
    "for file in pickle_files:\n",
    "    df = pd.read_pickle(os.path.join(intput_directory, f'{file}.pkl'))\n",
    "    df.to_crs(crs=target_crs).to_file(os.path.join(output_directory, f'{file}.shp'))\n",
    "    dfs.append(df)\n",
    "\n",
    "# Concatenate the DataFrames into a single DataFrame\n",
    "combined_df = pd.concat(dfs, ignore_index=True)\n",
    "\n",
    "# Dump the combined DataFrame to a pickle file\n",
    "combined_df.to_pickle('gps_canton/legs_filtered.pkl')\n",
    "combined_df.to_crs(crs=target_crs).to_file('gps_canton/shp/legs_filtered.shp')"
   ]
  },
  {
   "cell_type": "markdown",
   "id": "c54bbb5d-d422-495a-b31f-185e10dbf494",
   "metadata": {},
   "source": [
    "### For more testing"
   ]
  },
  {
   "cell_type": "code",
   "execution_count": null,
   "id": "16472aa6-7606-4c52-b6c2-de11206b54da",
   "metadata": {},
   "outputs": [],
   "source": [
    "## USE THIS LINE TO SAVE EXAMPLES OF HIGH SIGNAL LOSS\n",
    "#legs_.loc[legs_.max_signlalloss_meters > legs_.max_distance_meters.quantile(0.75)].to_crs(crs=target_crs).to_file('gg_fra_75_quant.geojson', driver='GeoJSON')\n",
    "\n",
    "#legs_.loc[(legs_['mode'].isin(mode_road)) & (legs_.max_signlalloss_meters < road_psa) & (legs_.rel_max_signalloss < road_psr)].to_crs(crs=target_crs).to_file('gg_fra_mode_road_.geojson', driver='GeoJSON')\n",
    "\n",
    "#legs_.loc[(legs_['mode'].isin(mode_active)) & (legs_.max_signlalloss_meters > active_psa) & (legs_.rel_max_signalloss > active_psr)].to_crs(crs=target_crs).to_file('gg_fra_mode_active.geojson', driver='GeoJSON')\n"
   ]
  },
  {
   "cell_type": "code",
   "execution_count": null,
   "id": "acf3c0c1-db11-4da0-911b-960da5ef8900",
   "metadata": {},
   "outputs": [],
   "source": [
    "##We can access the coordinates of a Linestring as follows:\n",
    "#legs.geometry[30831] reads the object linestring\n",
    "#type(legs.geometry[30831]) must be a shapely.geometry.linestring.LineString\n",
    "#list(legs_.geometry[30831].coords) displays the coordinate tuples from which we can compute the point-to-point distance"
   ]
  },
  {
   "cell_type": "code",
   "execution_count": null,
   "id": "5ba8de0d-809b-42dd-8bdd-a953fe3f2f77",
   "metadata": {},
   "outputs": [],
   "source": []
  }
 ],
 "metadata": {
  "kernelspec": {
   "display_name": "Python 3 (ipykernel)",
   "language": "python",
   "name": "python3"
  },
  "language_info": {
   "codemirror_mode": {
    "name": "ipython",
    "version": 3
   },
   "file_extension": ".py",
   "mimetype": "text/x-python",
   "name": "python",
   "nbconvert_exporter": "python",
   "pygments_lexer": "ipython3",
   "version": "3.12.2"
  }
 },
 "nbformat": 4,
 "nbformat_minor": 5
}
