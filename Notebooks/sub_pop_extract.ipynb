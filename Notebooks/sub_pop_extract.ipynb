{
 "cells": [
  {
   "cell_type": "code",
   "execution_count": null,
   "id": "56c9ce6c-b490-46db-b0fd-79a43dcc9130",
   "metadata": {},
   "outputs": [],
   "source": [
    "%load_ext autoreload"
   ]
  },
  {
   "cell_type": "code",
   "execution_count": null,
   "id": "6974015c-7657-46cb-a8d8-e7c8b9cc1f91",
   "metadata": {},
   "outputs": [],
   "source": [
    "import geopandas as gpd\n",
    "import pandas as pd\n",
    "pd.set_option('display.max_columns', None)\n",
    "import numpy as np\n",
    "\n",
    "from shapely import geometry, ops\n",
    "from shapely.geometry import MultiLineString, LineString, Point\n",
    "import os\n",
    "import concurrent.futures\n",
    "from shapely.ops import unary_union\n",
    "import xyt\n",
    "\n",
    "import time\n",
    "\n",
    "from panel_functions import *"
   ]
  },
  {
   "cell_type": "code",
   "execution_count": null,
   "id": "789e6e16-07a0-449e-b2de-099ec77ebc79",
   "metadata": {},
   "outputs": [],
   "source": [
    "%%time\n",
    "# Définir le CRS du projet (EPSG:4326 for WGS84)\n",
    "target_crs = 'EPSG:4326'\n",
    "print(\"CRS du projet: WGS84 \\n\")\n",
    "\n",
    "#Charger les étapes\n",
    "legs = pd.read_pickle('../Data/dumps_motiontag/storyline_time_space_filters/legs.pkl')\n",
    "print(\"Fichier étape chargé\")\n",
    "\n",
    "#Charger les activités\n",
    "staypoints = pd.read_pickle('../Data/dumps_motiontag/storyline_formated/staypoints.pkl').reset_index(drop=True)\n",
    "print(\"Fichier activité chargé\")\n",
    "\n",
    "#Charger les user_statistics\n",
    "usr_stats = pd.read_pickle('../Data/processed_feuille_de_route/gps_user_statistics.pkl')\n",
    "print(\"Fichier statistiques utilisateur·ices chargé\")"
   ]
  },
  {
   "cell_type": "code",
   "execution_count": null,
   "id": "4d82462b-587f-4ab4-afd5-66b5fffd7b57",
   "metadata": {},
   "outputs": [],
   "source": [
    "list_ge = usr_stats.loc[usr_stats.KT_home_survey == 'GE', 'user_id_fors'].to_list()"
   ]
  },
  {
   "cell_type": "code",
   "execution_count": null,
   "id": "0e7cd64a-28ee-4a65-bbaf-5fbbeb2e0d35",
   "metadata": {},
   "outputs": [],
   "source": [
    "legs_ge = legs.loc[legs.user_id_fors.isin(list_ge)]"
   ]
  },
  {
   "cell_type": "code",
   "execution_count": null,
   "id": "9e6a2f2a-953a-4582-9967-3672c0d86ab3",
   "metadata": {},
   "outputs": [],
   "source": [
    "legs_ge[['user_id_fors','mode','low_quality_legs_1','low_quality_legs_2','length_leg','geometry']]"
   ]
  },
  {
   "cell_type": "code",
   "execution_count": null,
   "id": "e7194caf-85a0-49b3-8650-1fe52b2cef1c",
   "metadata": {},
   "outputs": [],
   "source": [
    "legs_ge[['user_id_fors','mode','low_quality_legs_1','low_quality_legs_2','length_leg','geometry']].to_file('../Data/temp_files/extract_legs_GE.geojson', driver=\"GeoJSON\")  "
   ]
  },
  {
   "cell_type": "code",
   "execution_count": null,
   "id": "b081ce31-16d0-4639-8fc0-c8b53eda5182",
   "metadata": {},
   "outputs": [],
   "source": [
    "legs_ge[['user_id_fors','mode','low_quality_legs_1','low_quality_legs_2','length_leg','geometry']].sample(frac=0.5)"
   ]
  },
  {
   "cell_type": "code",
   "execution_count": null,
   "id": "174a6976-30c6-4909-907a-07f5fcb83414",
   "metadata": {},
   "outputs": [],
   "source": [
    "legs_ge['mode'].value_counts()"
   ]
  },
  {
   "cell_type": "code",
   "execution_count": null,
   "id": "c4934f7c-0b6a-447c-a4ac-b7eda087dbe8",
   "metadata": {},
   "outputs": [],
   "source": [
    "#car\n",
    "legs_ge[['user_id_fors','mode','low_quality_legs_1','low_quality_legs_2','length_leg','geometry']].loc[legs_ge['mode'] == 'Mode::Car'].to_file('../Data/temp_files/extract_legs_GE_car.geojson', driver=\"GeoJSON\")  \n",
    "#Bus\n",
    "legs_ge[['user_id_fors','mode','low_quality_legs_1','low_quality_legs_2','length_leg','geometry']].loc[legs_ge['mode'] == 'Mode::Bus'].to_file('../Data/temp_files/extract_legs_GE_bus.geojson', driver=\"GeoJSON\")  \n",
    "#Walk\n",
    "legs_ge[['user_id_fors','mode','low_quality_legs_1','low_quality_legs_2','length_leg','geometry']].loc[legs_ge['mode'] == 'Mode::Walk'].to_file('../Data/temp_files/extract_legs_GE_walk.geojson', driver=\"GeoJSON\")\n"
   ]
  },
  {
   "cell_type": "code",
   "execution_count": null,
   "id": "86dbc007-3ad9-4e4b-bb07-f2475a5f9fb6",
   "metadata": {},
   "outputs": [],
   "source": [
    "#Train\n",
    "legs_ge[['user_id_fors','mode','low_quality_legs_1','low_quality_legs_2','length_leg','geometry']].loc[legs_ge['mode'] == 'Mode::Train'].to_file('../Data/temp_files/extract_legs_GE_train.geojson', driver=\"GeoJSON\")  "
   ]
  },
  {
   "cell_type": "code",
   "execution_count": null,
   "id": "b42e13d9-61dc-4a32-96d9-247d68e2aada",
   "metadata": {},
   "outputs": [],
   "source": [
    "#car_half\n",
    "legs_ge[['user_id_fors','mode','low_quality_legs_1','low_quality_legs_2','length_leg','geometry']].loc[legs_ge['mode'] == 'Mode::Car'].sample(frac=0.5).to_file('../Data/temp_files/extract_legs_GE_car_sample.geojson', driver=\"GeoJSON\")  \n"
   ]
  },
  {
   "cell_type": "code",
   "execution_count": null,
   "id": "c7fa2ffe-3776-44c5-9948-f5970f8d77b9",
   "metadata": {},
   "outputs": [],
   "source": [
    "#tram\n",
    "legs_ge[['user_id_fors','mode','low_quality_legs_1','low_quality_legs_2','length_leg','geometry']].loc[legs_ge['mode'] == 'Mode::Tram'].sample(frac=0.5).to_file('../Data/temp_files/extract_legs_GE_tram.geojson', driver=\"GeoJSON\")  \n"
   ]
  },
  {
   "cell_type": "code",
   "execution_count": null,
   "id": "cdf27860-4ee0-4080-8073-e6f057dfa573",
   "metadata": {},
   "outputs": [],
   "source": [
    "#bike\n",
    "legs_ge[['user_id_fors','mode','low_quality_legs_1','low_quality_legs_2','length_leg','geometry']].loc[legs_ge['mode'] == 'Mode::Bicycle'].sample(frac=0.5).to_file('../Data/temp_files/extract_legs_GE_bicycle.geojson', driver=\"GeoJSON\")  \n"
   ]
  },
  {
   "cell_type": "code",
   "execution_count": null,
   "id": "bd12c9bb-a6de-44cd-ad3e-9cff66dc8375",
   "metadata": {},
   "outputs": [],
   "source": []
  },
  {
   "cell_type": "markdown",
   "id": "30c3e7df-7f6a-43cc-9641-7c5d243dbae8",
   "metadata": {},
   "source": [
    "###  Export emails for interviews"
   ]
  },
  {
   "cell_type": "code",
   "execution_count": null,
   "id": "2fd38bf5-63eb-4f6b-b35e-eea6bd41a9e9",
   "metadata": {},
   "outputs": [],
   "source": [
    "emails = pd.read_csv('../Data/dumps_motiontag/UserStatistics.EPFL-Panel.2023-04-24--2023-06-05.csv', sep=';')\n",
    "emails.head(2)"
   ]
  },
  {
   "cell_type": "code",
   "execution_count": null,
   "id": "f0b3de85-cdd3-4497-a3d8-f70ed81995c5",
   "metadata": {},
   "outputs": [],
   "source": []
  },
  {
   "cell_type": "code",
   "execution_count": null,
   "id": "20727ba8-a629-4cd4-9ce9-f911ed154c6e",
   "metadata": {},
   "outputs": [],
   "source": [
    "pop1_fors = ['CH18644','CH20781','CH25241','CH27556','CH5729','CH8471','FR10651','FR11102','FR13137','FR16651','FR18721','FR3507','FR480','FR5908','FR8384']\n",
    "pop2_fors = ['CH13829','CH17367','CH18531','CH20900','CH21398','CH24231','CH28825','CH28876','CH29072','CH29325','CH8750','FR14670','FR16458','CH19422','FR8339']"
   ]
  },
  {
   "cell_type": "code",
   "execution_count": null,
   "id": "1c956a71-2269-4dfd-8ee3-5b32163e6e35",
   "metadata": {},
   "outputs": [],
   "source": [
    "pop1_motiontag = usr_stats.loc[usr_stats.user_id_fors.isin(pop1_fors), 'user_id_motiontag'].to_list()\n",
    "pop2_motiontag = usr_stats.loc[usr_stats.user_id_fors.isin(pop2_fors), 'user_id_motiontag'].to_list()"
   ]
  },
  {
   "cell_type": "code",
   "execution_count": null,
   "id": "3adc4cf4-5766-463a-bd8b-43e9bd152de9",
   "metadata": {},
   "outputs": [],
   "source": [
    "pop1_email = emails.loc[emails['id'].isin(pop1_motiontag),['email', 'id']].merge(usr_stats[['user_id_fors','user_id_motiontag']], left_on='id',right_on='user_id_motiontag')[['email','user_id_fors']]\n",
    "pop2_email = emails.loc[emails['id'].isin(pop2_motiontag),['email', 'id']].merge(usr_stats[['user_id_fors','user_id_motiontag']], left_on='id',right_on='user_id_motiontag')[['email','user_id_fors']]"
   ]
  },
  {
   "cell_type": "code",
   "execution_count": null,
   "id": "5c12c22a-2f07-451c-b98a-b99a3592137c",
   "metadata": {},
   "outputs": [],
   "source": [
    "pop1_email.to_csv('../Data/temp_files/pop1_emails.csv')\n",
    "pop2_email.to_csv('../Data/temp_files/pop2_emails.csv')"
   ]
  },
  {
   "cell_type": "code",
   "execution_count": null,
   "id": "0bfb2611-4a8b-4bf9-97dc-d24a847ea063",
   "metadata": {},
   "outputs": [],
   "source": []
  }
 ],
 "metadata": {
  "kernelspec": {
   "display_name": "Python 3 (ipykernel)",
   "language": "python",
   "name": "python3"
  },
  "language_info": {
   "codemirror_mode": {
    "name": "ipython",
    "version": 3
   },
   "file_extension": ".py",
   "mimetype": "text/x-python",
   "name": "python",
   "nbconvert_exporter": "python",
   "pygments_lexer": "ipython3",
   "version": "3.12.2"
  }
 },
 "nbformat": 4,
 "nbformat_minor": 5
}
