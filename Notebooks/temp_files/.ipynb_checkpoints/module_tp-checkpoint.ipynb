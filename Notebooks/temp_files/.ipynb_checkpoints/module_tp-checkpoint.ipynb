{
 "cells": [
  {
   "cell_type": "code",
   "execution_count": null,
   "id": "3444f9c1-5631-48e1-95df-89d77a7ee49d",
   "metadata": {},
   "outputs": [],
   "source": [
    "import geopandas as gpd\n",
    "import pandas as pd\n",
    "pd.set_option('display.max_columns', None)\n",
    "import numpy as np\n",
    "\n",
    "from shapely import geometry, ops\n",
    "from shapely.geometry import MultiLineString, LineString, Point\n",
    "import os\n",
    "import concurrent.futures\n",
    "from shapely.ops import unary_union\n",
    "from shapely.geometry import JOIN_STYLE, Polygon, MultiPolygon\n",
    "\n",
    "import pycountry\n",
    "import xyt\n",
    "\n",
    "import time"
   ]
  },
  {
   "cell_type": "markdown",
   "id": "af9b73a6-5d1d-4d21-96e7-a1ecb352a0c8",
   "metadata": {},
   "source": [
    "### Ajuster le module TP pour livraison aux cantons"
   ]
  },
  {
   "cell_type": "code",
   "execution_count": null,
   "id": "d3328ad4-0724-43e6-9272-d49ad0118bdd",
   "metadata": {},
   "outputs": [],
   "source": [
    "# IMPORT DATA\n",
    "legs = pd.read_pickle('../Data/donnees_livrees/20240527_dump_situee/20240329_legs_nogeometry.pkl')\n",
    "\n",
    "module_tp = pd.read_csv(\"../Data/dumps_fors/EPFL Panel Lémanique GPS - Données Users & TimeTables/EPFL Panel Lémanique GPS - TimeTables.csv\")\n",
    "module_tp.head(3)"
   ]
  },
  {
   "cell_type": "code",
   "execution_count": null,
   "id": "dd9b6ef0-9319-4280-8666-b383432b55a1",
   "metadata": {},
   "outputs": [],
   "source": [
    "#Check if storyline_uuid eq to leg_id\n",
    "uuids = module_tp.storyline_uuid.sample(5)\n",
    "legs.loc[legs.leg_id.isin(uuids)]"
   ]
  },
  {
   "cell_type": "code",
   "execution_count": null,
   "id": "87e76e33-6a9c-4d9f-902d-cf3d87d183a3",
   "metadata": {},
   "outputs": [],
   "source": [
    "# CHANGER L'ORDRE DES COLONNES ET SUPPRIMER 'storyline_id'\n",
    "\n",
    "sort_cols = ['IDNO','storyline_uuid', 'departure_at',\n",
    "       'departure_station_id', 'departure_station_name',\n",
    "       'departure_station_latitude', 'departure_station_longitude',\n",
    "       'arrival_at', 'arrival_station_id', 'arrival_station_name',\n",
    "       'arrival_station_latitude', 'arrival_station_longitude', 'mode',\n",
    "       'line_number', 'train_number', 'operator']\n",
    "\n",
    "module_tp['departure_at'] = pd.to_datetime(module_tp['departure_at'])\n",
    "module_tp_ = module_tp[sort_cols].sort_values(by=['IDNO','departure_at']).copy().reset_index(drop=True).rename(columns={'storyline_uuid':'leg_id'})\n",
    "module_tp_.head(2)"
   ]
  },
  {
   "cell_type": "code",
   "execution_count": null,
   "id": "41bdad14-2101-411d-89e2-954bede16db8",
   "metadata": {},
   "outputs": [],
   "source": [
    "# EXPORTER LE NUOVEAU FICHIER\n",
    "module_tp_.to_csv('../Data/processed_feuille_de_route/240528_module_tp.csv')"
   ]
  },
  {
   "cell_type": "code",
   "execution_count": null,
   "id": "6357c5d0-57f8-4ff1-89dd-940c74dd560a",
   "metadata": {},
   "outputs": [],
   "source": []
  }
 ],
 "metadata": {
  "kernelspec": {
   "display_name": "Python 3 (ipykernel)",
   "language": "python",
   "name": "python3"
  },
  "language_info": {
   "codemirror_mode": {
    "name": "ipython",
    "version": 3
   },
   "file_extension": ".py",
   "mimetype": "text/x-python",
   "name": "python",
   "nbconvert_exporter": "python",
   "pygments_lexer": "ipython3",
   "version": "3.12.2"
  }
 },
 "nbformat": 4,
 "nbformat_minor": 5
}
