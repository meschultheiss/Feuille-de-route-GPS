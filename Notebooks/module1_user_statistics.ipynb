{
 "cells": [
  {
   "cell_type": "markdown",
   "id": "166865c6-1177-4944-8846-280c5be42568",
   "metadata": {},
   "source": [
    "#  Générer les statistiques usager\n",
    "\n",
    "**Description** : Le but de ce notebook est de générer des statistiques sur le suivi des usagers. Un fichier user_statistics a déjà été livré par Motiontag mais celui-ci donne des statistiques sur une période donnée (2023-04-24--2023-06-05), or la date de début et de fin de tracking pour chaque répondant peut être variable. Notre objectif est donc de reproduire le fichier user_statistics par individu.\n",
    "\n",
    "**Objectifs spécifiques** :\n",
    "- [ ] Obtenir le nombre de jours avec observation et le nombre de jour non-détecté \n",
    "- [ ] Connaître les périodes d'observaiton pour chaque personne\n",
    "- [ ] Connaître le canton de résidence de chaque répondant·e\n",
    "- [ ] Ajouter des variables fournies par Motiontag sur les devices\n",
    "\n",
    "**Résultats attendus** : Un fichier avec une ligne par répondant·e.\n",
    "\n",
    "**Sous-échantillonnage** :\n",
    "Tout l'échantillon"
   ]
  },
  {
   "cell_type": "code",
   "execution_count": null,
   "id": "148a82e2-45e5-4731-a524-7414b185cd07",
   "metadata": {},
   "outputs": [],
   "source": [
    "%load_ext autoreload"
   ]
  },
  {
   "cell_type": "code",
   "execution_count": null,
   "id": "db978265-9330-4054-9728-32b4d8ee4df0",
   "metadata": {},
   "outputs": [],
   "source": [
    "%autoreload 2"
   ]
  },
  {
   "cell_type": "code",
   "execution_count": null,
   "id": "c3ab3d72-e25d-4c20-9055-d0942219f3dd",
   "metadata": {},
   "outputs": [],
   "source": [
    "import geopandas as gpd\n",
    "import pandas as pd\n",
    "pd.set_option('display.max_columns', None)\n",
    "import numpy as np\n",
    "\n",
    "from shapely import geometry, ops\n",
    "from shapely.geometry import MultiLineString, LineString, Point\n",
    "import os\n",
    "import concurrent.futures\n",
    "from shapely.ops import unary_union\n",
    "import xyt\n",
    "\n",
    "import time\n",
    "\n",
    "from panel_functions import *"
   ]
  },
  {
   "cell_type": "markdown",
   "id": "2bf133b5-1d51-4369-ad6f-fd9681770f25",
   "metadata": {},
   "source": [
    "### Charger les données"
   ]
  },
  {
   "cell_type": "code",
   "execution_count": null,
   "id": "67f5e056-eb6b-42fa-8e51-fe58296bc893",
   "metadata": {},
   "outputs": [],
   "source": [
    "%%time\n",
    "# Définir le CRS du projet (EPSG:4326 for WGS84)\n",
    "target_crs = 'EPSG:4326'\n",
    "print(\"CRS du projet: WGS84 \\n\")\n",
    "\n",
    "#Charger les étapes\n",
    "legs = pd.read_pickle('../Data/dumps_motiontag/storyline_time_space_filters/legs_filter.pkl')\n",
    "print(\"Fichier étape chargé\")\n",
    "\n",
    "#Charger les activités\n",
    "staypoints = pd.read_pickle('../Data/dumps_motiontag/storyline_formated/staypoints.pkl')\n",
    "#staypoints = gpd.GeoDataFrame(staypoints, geometry=\"geometry\", crs=target_crs)\n",
    "print(\"Fichier activité chargé\")\n",
    "\n",
    "\n",
    "#Charger le questionnaire de la Vague 1 Mobilité pour Domicile déclaré\n",
    "columns_to_keep = ['longitude_Q14', 'latitude_Q14', 'IDNO', 'Pays', 'Numéro_INSEE', 'Numéro_OFS']\n",
    "home_declared = pd.read_csv('../../Vague1/EPFL_vague1_v4.csv', low_memory=False, usecols=columns_to_keep)\n",
    "#Remove those who did not declare any address\n",
    "home_declared = home_declared[home_declared.longitude_Q14 > 0]\n",
    "# Create a geometry column from longitude and latitude\n",
    "geometry = [Point(xy) for xy in zip(home_declared['longitude_Q14'], home_declared['latitude_Q14'])]\n",
    "# Combine Numéro_INSEE and Numéro_OFS into a single column 'ID_municipality'\n",
    "home_declared['ID_municipality_survey'] = home_declared.apply(lambda x: x['Numéro_OFS'] if x['Pays'] == '1' else x['Numéro_INSEE'], axis=1)\n",
    "home_declared = home_declared.drop(columns=['Numéro_OFS', 'Numéro_INSEE', 'longitude_Q14','latitude_Q14'])\n",
    "# Create a GeoDataFrame\n",
    "home_declared = gpd.GeoDataFrame(home_declared, geometry=geometry, crs=target_crs)\n",
    "home_declared = home_declared.rename(columns={'geometry':'home_geometry_from_survey','IDNO':'user_id_fors'})\n",
    "home_declared = gpd.GeoDataFrame(home_declared, geometry='home_geometry_from_survey', crs=target_crs)\n",
    "print(\"Fichier domicile chargé\")\n",
    "\n",
    "#Charger le fichier user_statistics livré par Motiontag mais inexploitable\n",
    "usr_stat_motion_tag  = pd.read_csv('../Data/dumps_motiontag/UserStatistics.EPFL-Panel.2023-04-24--2023-06-05.csv', sep=';')\n",
    "print(\"Fichier user_statistics chargé (FORS et Motiontag)\")\n",
    "\n",
    "#Charger le fichier de pondération par Alexis Gumy\n",
    "weights = pd.read_csv('../Data/weights_lasur/data_wgt.csv', sep=',').rename(columns={'IDNO':'user_id_fors'})\n",
    "w_cols = ['gdr','prof','age_fr','user_id_fors','wgt_cant_gps','wgt_agg_gps','wgt_cant_trim_gps','wgt_agg_trim_gps']\n",
    "weights = weights[w_cols]\n",
    "print(\"Fichier de pondération chargé\")\n",
    "\n",
    "#Charger le questionnaire de la Vague 1 Mobilité\n",
    "full_survey = pd.read_csv('../../Vague1/EPFL_vague1_v4.csv', low_memory=False)\n",
    "print(\"Fichier Questionnaire vague 1 chargé\")\n",
    "\n",
    "#Charger les bases officielles pour le sous-échantillonage géographique https://opendata.swiss/de/dataset/vm-uvek-zones-2017/resource/29b98f2c-42f2-4e72-b8b1-a39500ed0ad0\n",
    "TAZ = gpd.read_file('../../Vague1/Verkehrszonen_Schweiz_NPVM_2017_shp/Verkehrszonen_Schweiz_NPVM_2017.shp')\n",
    "TAZ = TAZ[['ID_Agglo', 'N_Agglo', 'N_KT', 'ID_Gem', 'geometry']]\n",
    "TAZ = TAZ.to_crs(crs=target_crs)\n",
    "#repare anomalies\n",
    "TAZ['geometry'] = TAZ['geometry'].buffer(0)\n",
    "shp_KT = TAZ.dissolve(by='N_KT').reset_index()\n",
    "print(\"Fichier Zones de traffic chargé\")\n",
    "\n",
    "#Charger la table de correspondance entre les userid Motiontag et FORS\n",
    "match_userid = pd.read_csv('../Data/dumps_fors/correspondance_user_id.csv')\n",
    "print(\"Fichier table de correspondance user id chargé\")\n",
    "\n",
    "# Get perimetre panel GeoDataFrame\n",
    "perimetre_panel = gpd.read_file('../Data/other_shp/perimetre_panel/perimetre_panel_08.01.24.shp')\n",
    "perimetre_panel = perimetre_panel.to_crs(crs=target_crs)\n",
    "perimetre_panel = perimetre_panel[['COMM_ID','COMM_NAME','Typo_panel','geometry']]"
   ]
  },
  {
   "cell_type": "markdown",
   "id": "cea299a4-42cb-4d44-9fee-31cce0bbbffd",
   "metadata": {},
   "source": [
    "###  Aperçu des données"
   ]
  },
  {
   "cell_type": "code",
   "execution_count": null,
   "id": "85f83938-b3eb-4cf0-b889-c6d83e028cb3",
   "metadata": {},
   "outputs": [],
   "source": [
    "staypoints.head(2)"
   ]
  },
  {
   "cell_type": "code",
   "execution_count": null,
   "id": "e7ac2b9f-d340-44e9-b76f-64b7990fc06d",
   "metadata": {},
   "outputs": [],
   "source": [
    "legs.head(2)"
   ]
  },
  {
   "cell_type": "markdown",
   "id": "49d252b4-cf3b-4ebd-8b98-d23bfd54bef5",
   "metadata": {},
   "source": [
    "### Calculer les statistiques par répondant·e"
   ]
  },
  {
   "cell_type": "markdown",
   "id": "07d2dd27-bdc1-4eef-a7f9-b510750610f8",
   "metadata": {},
   "source": [
    "####  Get usr activity statistics based on staypoints"
   ]
  },
  {
   "cell_type": "code",
   "execution_count": null,
   "id": "0a1e822d-a7ed-4929-905a-fbd1a93f4d67",
   "metadata": {},
   "outputs": [],
   "source": [
    "len(staypoints.user_id_motiontag.unique())"
   ]
  },
  {
   "cell_type": "code",
   "execution_count": null,
   "id": "6fd6a864-2c19-4043-84ba-ccce74c2e613",
   "metadata": {},
   "outputs": [],
   "source": [
    "def get_user_activity_stats(staypoints):\n",
    "    \n",
    "    # Make a copy to avoid error\n",
    "    count_act = staypoints.copy()\n",
    "    \n",
    "    # Convert 'started_at' column to datetime\n",
    "    count_act['started_at'] = pd.to_datetime(count_act['started_at'])\n",
    "\n",
    "    # Extract only the date part\n",
    "    count_act['date'] = count_act['started_at'].dt.date\n",
    "\n",
    "    # Group by 'user_id_motiontag', then find the min and max dates\n",
    "    user_stats = count_act.groupby(['user_id_motiontag','user_id_fors'])['date'].agg(['min', 'max']).reset_index()\n",
    "\n",
    "    # Calculate the total days in the range for each user\n",
    "    user_stats['days_in_range'] = (pd.to_datetime(user_stats['max']) - pd.to_datetime(user_stats['min'])).dt.days + 1\n",
    "\n",
    "    # Create a date range covering the entire date range for each user\n",
    "    date_ranges = user_stats.apply(lambda row: pd.date_range(row['min'], row['max'], freq='D'), axis=1)\n",
    "    user_stats['date_range'] = date_ranges\n",
    "    # Group by 'user_id_motiontag' and count the unique dates\n",
    "    user_unique_dates = count_act.groupby('user_id_motiontag')['date'].nunique().reset_index()\n",
    "#\n",
    "    # Merge with user_unique_dates to get active_days_count\n",
    "    user_stats = pd.merge(user_stats, user_unique_dates, on='user_id_motiontag', how='left')\n",
    "    user_stats.rename(columns={'date': 'active_days_count'}, inplace=True)\n",
    "\n",
    "    # Calculate the number of missing days within the range for each user\n",
    "    user_stats['days_without_event'] = user_stats['days_in_range'] - user_stats['active_days_count']\n",
    "\n",
    "    # Drop unnecessary columns\n",
    "    user_stats.drop(columns=['date_range'], inplace=True)\n",
    "\n",
    "    # Rename the min/may columns\n",
    "    user_stats.rename(columns={'min':'first_activity_date','max':'last_activity_date'}, inplace=True)\n",
    "\n",
    "    return user_stats"
   ]
  },
  {
   "cell_type": "code",
   "execution_count": null,
   "id": "2a1bf36c-b33f-4551-b474-1becd33be93a",
   "metadata": {},
   "outputs": [],
   "source": [
    "usr_stats = get_user_activity_stats(staypoints)"
   ]
  },
  {
   "cell_type": "code",
   "execution_count": null,
   "id": "759bf2a0-45ed-4a79-9d10-d22ecc330a30",
   "metadata": {},
   "outputs": [],
   "source": [
    "len(usr_stats.user_id_motiontag.unique())"
   ]
  },
  {
   "cell_type": "code",
   "execution_count": null,
   "id": "17082489-fa3e-4727-bd52-3c385ac8be76",
   "metadata": {},
   "outputs": [],
   "source": [
    "# IMPORTANT Check the value of active_days_count\n",
    "#id_ = 'CH10068'\n",
    "#usr_stats[usr_stats.user_id_motiontag == id_]['active_days_count'].iloc[0]"
   ]
  },
  {
   "cell_type": "code",
   "execution_count": null,
   "id": "b529c915-b2b8-4a27-8fa2-f5f4be214382",
   "metadata": {},
   "outputs": [],
   "source": [
    "# Must be identical to:\n",
    "#len(count_act[count_act.user_id == id_].date.unique())"
   ]
  },
  {
   "cell_type": "code",
   "execution_count": null,
   "id": "1dc6f14b-7e29-4410-b97a-c58e1ebb74ee",
   "metadata": {},
   "outputs": [],
   "source": [
    "#len(usr_stats)"
   ]
  },
  {
   "cell_type": "code",
   "execution_count": null,
   "id": "d6fe2803-3056-44b5-92b3-87e174178bcd",
   "metadata": {},
   "outputs": [],
   "source": [
    "usr_stats = pd.merge(usr_stats, \n",
    "                     get_user_activity_stats(legs).rename(columns={'active_days_count':'days_with_track','days_without_event':'days_without_track'}),#[['user_id_motiontag','days_without_track']],\n",
    "                    on=['user_id_motiontag','user_id_fors'],\n",
    "                    how='left')\n",
    "\n",
    "usr_stats.loc[~usr_stats.user_id_motiontag.isin(legs.user_id_motiontag.unique().tolist()),'days_without_track'] = 99\n",
    "\n",
    "usr_stats['days_without_track'] = usr_stats['days_without_track'].astype(int)"
   ]
  },
  {
   "cell_type": "markdown",
   "id": "5b27d9ab-91dd-47a4-86b4-2eea0724fd39",
   "metadata": {},
   "source": [
    "#### Get the max period of observation between legs and staypoints"
   ]
  },
  {
   "cell_type": "code",
   "execution_count": null,
   "id": "c149a376-8d82-4862-9afa-9835f2576519",
   "metadata": {},
   "outputs": [],
   "source": [
    "# Convert date columns to datetime\n",
    "date_cols = ['first_activity_date_x', 'last_activity_date_x', 'first_activity_date_y', 'last_activity_date_y']\n",
    "usr_stats[date_cols] = usr_stats[date_cols].apply(pd.to_datetime)\n",
    "\n",
    "# Calculate new columns\n",
    "usr_stats['first_activity_date'] = usr_stats[['first_activity_date_x', 'first_activity_date_y']].min(axis=1)\n",
    "usr_stats['last_activity_date'] = usr_stats[['last_activity_date_x', 'last_activity_date_y']].max(axis=1)\n",
    "usr_stats['days_in_range'] = usr_stats[['days_in_range_x', 'days_in_range_y']].max(axis=1)\n",
    "\n",
    "# Drop old columns\n",
    "columns_to_drop = ['first_activity_date_x', 'last_activity_date_x', 'days_in_range_x',\n",
    "                   'first_activity_date_y', 'last_activity_date_y', 'days_in_range_y']\n",
    "usr_stats = usr_stats.drop(columns=columns_to_drop)"
   ]
  },
  {
   "cell_type": "markdown",
   "id": "f5d237f1-32d5-44c2-9761-abc6f7ec3188",
   "metadata": {},
   "source": [
    "#### Add stats on track and stay confirmation by usr"
   ]
  },
  {
   "cell_type": "code",
   "execution_count": null,
   "id": "9fe850a4-82d0-4db5-855c-7f99e09f15d2",
   "metadata": {},
   "outputs": [],
   "source": [
    "confirmation_track_count = legs[['user_id_motiontag', 'confirmed_at','leg_id']].groupby('user_id_motiontag').count().reset_index()\n",
    "confirmation_track_count.rename(columns={'confirmed_at':'confirmed_tracks_count','leg_id':'tracks_count'},inplace=True)\n",
    "confirmation_track_count['unconfirmed_tracks_count'] = confirmation_track_count.tracks_count - confirmation_track_count.confirmed_tracks_count\n",
    "confirmation_track_count['confirmation_tracks_score'] = (confirmation_track_count.confirmed_tracks_count / confirmation_track_count.tracks_count * 100).astype(int)\n",
    "confirmation_track_count.head(2)"
   ]
  },
  {
   "cell_type": "code",
   "execution_count": null,
   "id": "ce2b58c2-84f8-4703-aea6-21e98b1be907",
   "metadata": {},
   "outputs": [],
   "source": [
    "confirmation_stay_count = staypoints[['user_id_motiontag', 'confirmed_at','activity_id']].groupby('user_id_motiontag').count().reset_index()\n",
    "confirmation_stay_count.rename(columns={'confirmed_at':'confirmed_stay_count','activity_id':'stay_count'},inplace=True)\n",
    "confirmation_stay_count['unconfirmed_stay_count'] = confirmation_stay_count.stay_count - confirmation_stay_count.confirmed_stay_count\n",
    "confirmation_stay_count['confirmation_stay_score'] = (confirmation_stay_count.confirmed_stay_count / confirmation_stay_count.stay_count * 100).astype(int)\n",
    "confirmation_stay_count.head(2)"
   ]
  },
  {
   "cell_type": "code",
   "execution_count": null,
   "id": "99a22498-d5b3-4ee3-a851-5729957e5147",
   "metadata": {},
   "outputs": [],
   "source": [
    "#Add\n",
    "merge_on_col_track = ['user_id_motiontag','confirmed_tracks_count','tracks_count','confirmation_tracks_score']\n",
    "merge_on_col_stay = ['user_id_motiontag','confirmed_stay_count','stay_count','confirmation_stay_score']\n",
    "usr_stats = pd.merge(usr_stats,\n",
    "                     confirmation_track_count[merge_on_col_track],\n",
    "                     how='left', on='user_id_motiontag')\n",
    "usr_stats = pd.merge(usr_stats,\n",
    "                     confirmation_stay_count[merge_on_col_stay],\n",
    "                     how='left', on='user_id_motiontag')\n",
    "#Reorder columns\n",
    "cols = ['user_id_motiontag', 'user_id_fors', \n",
    " 'first_activity_date', 'last_activity_date', 'days_in_range', 'active_days_count',\n",
    " 'days_without_event', 'days_with_track', 'days_without_track',\n",
    " 'confirmed_tracks_count','tracks_count','confirmation_tracks_score','confirmed_stay_count','stay_count','confirmation_stay_score']\n",
    "usr_stats = usr_stats[cols]"
   ]
  },
  {
   "cell_type": "code",
   "execution_count": null,
   "id": "80a8a622-3414-439f-8bcf-992d5dbdc6dd",
   "metadata": {},
   "outputs": [],
   "source": [
    "stat_day_confirmation = usr_stats[['confirmed_tracks_count','tracks_count','confirmed_stay_count','stay_count']]\n",
    "stat_day_confirmation.describe().astype(int)"
   ]
  },
  {
   "cell_type": "code",
   "execution_count": null,
   "id": "b78b8484-f1e8-4b0b-8354-44684569bb6a",
   "metadata": {},
   "outputs": [],
   "source": [
    "import matplotlib.pyplot as plt\n",
    "import matplotlib.patches as patches\n",
    "import matplotlib.patheffects as path_effects\n",
    "\n",
    "\n",
    "# Customizing the box plot\n",
    "fig, ax = plt.subplots(figsize=(8, 8))\n",
    "\n",
    "\n",
    "# Plotting the box plot for the selected columns\n",
    "stat_day_confirmation.plot.box(\n",
    "    ax=ax, \n",
    "    notch=True,             # Draws a notch to represent the confidence interval\n",
    "    patch_artist=True,      # Fill the box with color\n",
    "    boxprops=dict(facecolor='white', color='black'),  # Customize box appearance\n",
    "    medianprops=dict(color='black', linewidth=2),          # Customize median line\n",
    "    whiskerprops=dict(color='black', linewidth=1.5),      # Customize whiskers\n",
    "    capprops=dict(color='black', linewidth=1.5),          # Customize caps\n",
    "    flierprops=dict(marker='o', color='black', alpha=0.5)  # Customize outliers\n",
    ")\n",
    "\n",
    "# Adding titles and labels in French with larger font sizes\n",
    "ax.set_title(' ', fontsize=16)\n",
    "ax.set_xlabel(' ', fontsize=16)\n",
    "ax.set_ylabel(\"Nombre d'événements GPS\", fontsize=12)\n",
    "\n",
    "# Customizing x-axis labels to French\n",
    "ax.set_xticklabels(['Etapes \\nconfirmées', 'Toutes les \\nétapes ', 'Arrêts \\nconfirmés', 'Tous les \\narrêts'], fontsize=12)\n",
    "\n",
    "# Customizing y-axis labels\n",
    "ax.tick_params(axis='y', labelsize=12)\n",
    "\n",
    "# Customizing grid\n",
    "ax.grid(True, linestyle='--', linewidth=0.7, alpha=0.7, color='black')\n",
    "\n",
    "# Save the plot as a PNG file\n",
    "#plt.savefig('../Data/temp_files/box_plot_observations.png', format='png')\n",
    "\n",
    "# Displaying the plot\n",
    "plt.show()"
   ]
  },
  {
   "cell_type": "code",
   "execution_count": null,
   "id": "07bc2a14-7660-4dda-a766-c78c09fe487d",
   "metadata": {},
   "outputs": [],
   "source": [
    "usr_stats[['confirmation_tracks_score','confirmation_stay_score']].describe().astype(int)"
   ]
  },
  {
   "cell_type": "markdown",
   "id": "222bd793-47c7-48b0-80e8-a072f77bba4c",
   "metadata": {},
   "source": [
    "#### Add users with constant bad signal"
   ]
  },
  {
   "cell_type": "code",
   "execution_count": null,
   "id": "2f9cba75-6b22-44ca-b5ff-2f6cefb4bc39",
   "metadata": {},
   "outputs": [],
   "source": [
    "len(legs.loc[legs.usr_w_constant_bad_signal == 1, 'user_id_motiontag'].unique().tolist())"
   ]
  },
  {
   "cell_type": "code",
   "execution_count": null,
   "id": "fe56d635-8257-44f7-8428-032fd24aa7b8",
   "metadata": {},
   "outputs": [],
   "source": [
    "usr_stats['usr_w_constant_bad_signal'] = 0\n",
    "usr_stats.loc[usr_stats.user_id_motiontag.isin(legs.loc[legs.usr_w_constant_bad_signal == 1, 'user_id_motiontag'].unique().tolist()), 'usr_w_constant_bad_signal'] = 1"
   ]
  },
  {
   "cell_type": "markdown",
   "id": "ee22db7d-6600-4401-9c8f-c107226e7ee8",
   "metadata": {},
   "source": [
    "#### Add home location from GPS data"
   ]
  },
  {
   "cell_type": "code",
   "execution_count": null,
   "id": "7fa4e761-0f94-45a4-ab34-711c98719669",
   "metadata": {},
   "outputs": [],
   "source": [
    "%%time \n",
    "# Obtenir la localisation du domicile sur la base des données GPS\n",
    "import pandas as pd\n",
    "from shapely.geometry import Point\n",
    "from sklearn.cluster import DBSCAN\n",
    "from sklearn.preprocessing import StandardScaler\n",
    "\n",
    "# Step 1: Convert the 'geometry' column to Shapely Point objects and remove nans\n",
    "staypoints_ = staypoints.loc[staypoints.purpose == 'home'].copy()#.dropna()\n",
    "\n",
    "# Step 2: Define a function to cluster points within a specified radius using 'lon' and 'lat' columns\n",
    "def cluster_points(points_, eps, min_samples):\n",
    "    \"\"\"\n",
    "    Clusters points using DBSCAN algorithm.\n",
    "\n",
    "    Parameters:\n",
    "        points_ (DataFrame): DataFrame with 'lon' and 'lat' columns.\n",
    "        eps (float): The maximum distance between two samples for one to be considered as in the neighborhood of the other.\n",
    "        min_samples (int): The number of samples (or total weight) in a neighborhood for a point to be considered as a core point.\n",
    "\n",
    "    Returns:\n",
    "        List of cluster labels for each input point.\n",
    "    \"\"\"\n",
    "\n",
    "    points = points_.copy()\n",
    "    \n",
    "    # Check if DataFrame is empty\n",
    "    if points.empty:\n",
    "        return []\n",
    "    \n",
    "    scaler = StandardScaler()\n",
    "    scaled_points = scaler.fit_transform(points[['lon', 'lat']])\n",
    "\n",
    "    dbscan = DBSCAN(eps=eps, min_samples=min_samples)\n",
    "    dbscan.fit(scaled_points)\n",
    "\n",
    "    return dbscan.labels_\n",
    "\n",
    "# Step 3: Apply the clustering function to your points\n",
    "staypoints_['cluster'] = cluster_points(staypoints_, eps=0.00045, min_samples=15)\n",
    "\n",
    "# Step 4: Define a function to calculate the centroid of each cluster\n",
    "def calculate_centroid(points):\n",
    "    \"\"\"\n",
    "    Calculates the centroid of a list of points.\n",
    "\n",
    "    Parameters:\n",
    "        points (DataFrame): DataFrame with 'lon' and 'lat' columns.\n",
    "\n",
    "    Returns:\n",
    "        Centroid Point object.\n",
    "    \"\"\"\n",
    "    centroid_lon = points['lon'].mean()\n",
    "    centroid_lat = points['lat'].mean()\n",
    "    return Point(centroid_lon, centroid_lat)\n",
    "\n",
    "# Step 5: Create a list to store the most recurrent cluster for each user_id\n",
    "most_recurrent_clusters = []\n",
    "\n",
    "# Step 6: Calculate the most recurrent cluster for each user_id and store its centroid\n",
    "for user_id, user_group in staypoints_.groupby('user_id_motiontag'):\n",
    "    cluster_counts = user_group['cluster'].value_counts()\n",
    "    most_recurrent_cluster = cluster_counts.idxmax()\n",
    "    \n",
    "    # Get the group of points for the most recurrent cluster\n",
    "    most_recurrent_group = user_group[user_group['cluster'] == most_recurrent_cluster]\n",
    "    \n",
    "    # Calculate the centroid for the most recurrent cluster group\n",
    "    centroid = calculate_centroid(most_recurrent_group)\n",
    "    \n",
    "    most_recurrent_clusters.append({'user_id_motiontag': user_id, 'centroid': centroid})\n",
    "\n",
    "# Step 7: Create a new DataFrame from the most_recurrent_clusters list\n",
    "most_recurrent_clusters_df = pd.DataFrame(most_recurrent_clusters)\n",
    "\n",
    "# Step 8: Prepare for merging\n",
    "most_recurrent_clusters_df.rename(columns={'centroid':'home_geometry_from_gps'}, inplace=True)\n"
   ]
  },
  {
   "cell_type": "code",
   "execution_count": null,
   "id": "2a33338e-79a2-46b1-b37b-21212aa0e085",
   "metadata": {},
   "outputs": [],
   "source": [
    "usr_stats = pd.merge(usr_stats,most_recurrent_clusters_df,how='left', on='user_id_motiontag')\n"
   ]
  },
  {
   "cell_type": "markdown",
   "id": "94e6c221-2ff9-42ff-a4a5-955054b3d192",
   "metadata": {},
   "source": [
    "#### Add home location from declaration in survey"
   ]
  },
  {
   "cell_type": "code",
   "execution_count": null,
   "id": "463c654e-855e-461b-9a08-67df1ff6c1cc",
   "metadata": {},
   "outputs": [],
   "source": [
    "home_declared.head(2)"
   ]
  },
  {
   "cell_type": "code",
   "execution_count": null,
   "id": "08fcc44b-53cb-4424-a610-39b0127b2649",
   "metadata": {},
   "outputs": [],
   "source": [
    "usr_stats = pd.merge(usr_stats,home_declared,how='left', on='user_id_fors')"
   ]
  },
  {
   "cell_type": "markdown",
   "id": "108244ab-78c7-46ea-ab5e-6810149af5f3",
   "metadata": {},
   "source": [
    "#### Add administrative bounderies"
   ]
  },
  {
   "cell_type": "code",
   "execution_count": null,
   "id": "7a89d550-53d1-4d93-b81c-11ca4c71fe81",
   "metadata": {},
   "outputs": [],
   "source": [
    "TAZ.plot()"
   ]
  },
  {
   "cell_type": "code",
   "execution_count": null,
   "id": "b0cb68d6-4f77-4698-81fc-44c2eb1a6662",
   "metadata": {},
   "outputs": [],
   "source": [
    "TAZ.head(2)"
   ]
  },
  {
   "cell_type": "code",
   "execution_count": null,
   "id": "e27af222-af42-4cee-9b81-764375824a2a",
   "metadata": {},
   "outputs": [],
   "source": [
    "%%time\n",
    "usr_stats = gpd.GeoDataFrame(usr_stats, geometry=\"home_geometry_from_survey\", crs=target_crs)\n",
    "usr_stats = gpd.sjoin(usr_stats, \n",
    "                      TAZ.rename(columns={'N_KT':'KT_home_survey','ID_Agglo':'ID_Agglo_survey','N_Agglo':'N_Agglo_survey','ID_Gem':'ID_Commune_survey'}), \n",
    "                      how='left', predicate='intersects')\n",
    "del usr_stats['index_right']\n",
    "usr_stats[['ID_Commune_survey','ID_Agglo_survey']] = usr_stats[['ID_Commune_survey','ID_Agglo_survey']].astype(int, errors='ignore') \n",
    "\n",
    "usr_stats = gpd.GeoDataFrame(usr_stats, geometry=\"home_geometry_from_gps\", crs=target_crs)\n",
    "usr_stats = gpd.sjoin(usr_stats, \n",
    "                      shp_KT[['N_KT','geometry']].rename(columns={'N_KT':'KT_home_gps'}), \n",
    "                      how='left', predicate='intersects')\n",
    "del usr_stats['index_right']\n",
    "usr_stats = gpd.GeoDataFrame(usr_stats, geometry=\"home_geometry_from_survey\", crs=target_crs)"
   ]
  },
  {
   "cell_type": "code",
   "execution_count": null,
   "id": "0eeb1479-258d-4815-b043-f12c9752c063",
   "metadata": {},
   "outputs": [],
   "source": [
    "usr_stats.iloc[np.where(usr_stats['user_id_fors'].str.startswith('FR').isna())].head(2)"
   ]
  },
  {
   "cell_type": "code",
   "execution_count": null,
   "id": "cb4f8e9b-a42b-48b6-a1a8-dd71440fcad8",
   "metadata": {},
   "outputs": [],
   "source": [
    "# Create a boolean mask for rows that start with 'FR'\n",
    "mask = usr_stats['user_id_fors'].str.startswith('FR')\n",
    "\n",
    "# Use the boolean mask to filter rows and then assign values\n",
    "usr_stats.loc[mask, ['KT_home_gps', 'KT_home_survey', 'N_Agglo_survey']] = 'Fra'\n",
    "usr_stats.loc[mask, ['ID_Agglo_survey', 'ID_Commune_survey']] = 99\n",
    "\n",
    "# Fill NaN values in 'ID_Commune_survey' and 'ID_Agglo_survey' columns with 99\n",
    "usr_stats['ID_Commune_survey'] = usr_stats['ID_Commune_survey'].fillna(99).astype(int)\n",
    "usr_stats['ID_Agglo_survey'] = usr_stats['ID_Agglo_survey'].fillna(99).astype(int)\n",
    "\n",
    "# Calculate 'days_with_track' column\n",
    "#usr_stats['days_with_track'] = usr_stats['active_days_count'] - usr_stats['days_without_track']\n"
   ]
  },
  {
   "cell_type": "code",
   "execution_count": null,
   "id": "b7391113-ce15-4e10-a0b2-67fc015d1ae5",
   "metadata": {},
   "outputs": [],
   "source": [
    "usr_stats.N_Agglo_survey.value_counts()"
   ]
  },
  {
   "cell_type": "markdown",
   "id": "1bb83ced-64cb-4235-afd5-df77378b6821",
   "metadata": {},
   "source": [
    "#### Add typo panel"
   ]
  },
  {
   "cell_type": "code",
   "execution_count": null,
   "id": "eaee0fe9-a06c-4658-a080-3e6c6e29cba1",
   "metadata": {},
   "outputs": [],
   "source": [
    "perimetre_panel[['geometry','Typo_panel']].plot()"
   ]
  },
  {
   "cell_type": "code",
   "execution_count": null,
   "id": "f1833430-9080-4398-93e4-c9a13c9fc478",
   "metadata": {},
   "outputs": [],
   "source": [
    "usr_stats = gpd.sjoin(usr_stats, \n",
    "                      perimetre_panel[['geometry','Typo_panel']].rename(columns={'Typo_panel':'typo_panel_home_survey'}), \n",
    "                      how='left', predicate='intersects')\n",
    "del usr_stats['index_right']\n"
   ]
  },
  {
   "cell_type": "code",
   "execution_count": null,
   "id": "01b3efc5-12be-4517-b049-57d17335f669",
   "metadata": {},
   "outputs": [],
   "source": [
    "# Remove columns 'Pays', 'ID_Commune_survey'\n",
    "\n",
    "reorder_cols = ['user_id_motiontag', 'user_id_fors', \n",
    " 'first_activity_date','last_activity_date', 'days_in_range', 'active_days_count',\n",
    " 'days_without_event', 'days_with_track', 'days_without_track',\n",
    " 'usr_w_constant_bad_signal',\n",
    " 'confirmed_tracks_count', 'tracks_count', 'confirmation_tracks_score',\n",
    " 'confirmed_stay_count', 'stay_count', 'confirmation_stay_score',\n",
    " 'KT_home_survey', 'home_geometry_from_survey', 'ID_municipality_survey','ID_Agglo_survey', 'typo_panel_home_survey', 'N_Agglo_survey',\n",
    " 'KT_home_gps','home_geometry_from_gps']\n",
    "\n",
    "usr_stats = usr_stats[reorder_cols]\n",
    "usr_stats = gpd.GeoDataFrame(usr_stats, geometry=\"home_geometry_from_survey\", crs=target_crs)"
   ]
  },
  {
   "cell_type": "markdown",
   "id": "2ff733ad-8274-458c-887a-bda7edaed4d9",
   "metadata": {},
   "source": [
    "#### Ajouter les pondérations"
   ]
  },
  {
   "cell_type": "code",
   "execution_count": null,
   "id": "de53689c-900f-4641-b630-1fab660fd3fc",
   "metadata": {},
   "outputs": [],
   "source": [
    "usr_stats = pd.merge(usr_stats, weights, on='user_id_fors', how='left')"
   ]
  },
  {
   "cell_type": "code",
   "execution_count": null,
   "id": "194f90b8-3dcb-4189-bf79-214b8bebbef5",
   "metadata": {},
   "outputs": [],
   "source": [
    "usr_stats.head()"
   ]
  },
  {
   "cell_type": "code",
   "execution_count": null,
   "id": "60cdc0c7-8c28-457b-8662-7e13b952541b",
   "metadata": {},
   "outputs": [],
   "source": [
    "len(usr_stats)"
   ]
  },
  {
   "cell_type": "markdown",
   "id": "5beb39fe-c88d-4ea2-9623-b151037722be",
   "metadata": {},
   "source": [
    "#### Ajouter la motorisation des répondant·es"
   ]
  },
  {
   "cell_type": "code",
   "execution_count": null,
   "id": "d19c111b-4171-4102-98dd-b62686ea1508",
   "metadata": {},
   "outputs": [],
   "source": [
    "motor_map = {\n",
    "    1: 'essence',\n",
    "    2: 'diesel',\n",
    "    3: 'electrique',\n",
    "    4: 'hybride rechargeable',\n",
    "    5: 'hybride nonrechargeable',\n",
    "    6: 'gaznat_biogaz',\n",
    "    7: 'GPL'\n",
    "}\n",
    "\n",
    "# Selecting columns\n",
    "motorization = full_survey[['IDNO','Q4_1_1_R', 'Q4_1_2_R', 'Q5_R']].rename(columns={'Q5_R':'main_motor','IDNO':'user_id_fors'}).set_index('user_id_fors').copy()\n",
    "# Replacing '#NULL!' and '-99' with NaN\n",
    "motorization.replace(to_replace={'#NULL!': np.nan, '-99': np.nan}, inplace=True)\n",
    "# Converting columns to float\n",
    "motorization = motorization.astype(float)\n",
    "# Summing the columns and creating a new 'car_in_HH' column\n",
    "motorization['car_in_HH_count'] = motorization[['Q4_1_1_R', 'Q4_1_2_R']].sum(axis=1)\n",
    "# Dropping the individual columns if needed\n",
    "motorization.drop(columns=['Q4_1_1_R', 'Q4_1_2_R'], inplace=True)\n",
    "# Mapping values in 'Q5_R' column\n",
    "motorization['main_motor'] = motorization['main_motor'].map(motor_map)\n",
    "# Reset index\n",
    "motorization = motorization.drop_duplicates().reset_index()\n",
    "\n",
    "usr_stats = pd.merge(usr_stats, motorization, on='user_id_fors',how='left')\n"
   ]
  },
  {
   "cell_type": "code",
   "execution_count": null,
   "id": "c8850b80-e070-4d46-8aa2-e25ac81e36a0",
   "metadata": {},
   "outputs": [],
   "source": [
    "usr_stats[usr_stats.duplicated()]"
   ]
  },
  {
   "cell_type": "code",
   "execution_count": null,
   "id": "2b34eed5-90c6-4ad6-bece-32c90f2e01d3",
   "metadata": {},
   "outputs": [],
   "source": [
    "len(usr_stats)"
   ]
  },
  {
   "cell_type": "code",
   "execution_count": null,
   "id": "49cb9882-9499-410c-ae25-8fdb9a8873e2",
   "metadata": {},
   "outputs": [],
   "source": [
    "usr_stats"
   ]
  },
  {
   "cell_type": "markdown",
   "id": "378ddd39-c285-426f-892b-2ac86127ace3",
   "metadata": {},
   "source": [
    "#### Sauvegarde du fichier user_statistics"
   ]
  },
  {
   "cell_type": "code",
   "execution_count": null,
   "id": "190800b8-35dd-4fd9-9693-56d9702c4918",
   "metadata": {},
   "outputs": [],
   "source": [
    "#usr_stats.to_pickle('../Data/processed_feuille_de_route/gps_user_statistics.pkl')\n",
    "#usr_stats.to_csv('../Data/processed_feuille_de_route/gps_user_statistics.csv')"
   ]
  },
  {
   "cell_type": "code",
   "execution_count": null,
   "id": "5d221b73-9b56-46c9-964d-c162c1112556",
   "metadata": {},
   "outputs": [],
   "source": [
    "usr_stats"
   ]
  },
  {
   "cell_type": "code",
   "execution_count": null,
   "id": "da570034-a22e-4091-a83d-dc40de41ec73",
   "metadata": {},
   "outputs": [],
   "source": [
    "usr_stats_nogeometry = usr_stats.copy()\n",
    "\n",
    "del usr_stats_nogeometry['home_geometry_from_survey']\n",
    "del usr_stats_nogeometry['home_geometry_from_gps']\n",
    "del usr_stats_nogeometry['user_id_motiontag']\n",
    "#usr_stats_nogeometry.to_pickle('../Data/processed_feuille_de_route/usr_stats_nogeometry.pkl')"
   ]
  },
  {
   "cell_type": "code",
   "execution_count": null,
   "id": "b99799e3-e14e-4b30-96e5-b169fe04941d",
   "metadata": {},
   "outputs": [],
   "source": [
    "usr_stats_nogeometry#.columns"
   ]
  },
  {
   "cell_type": "markdown",
   "id": "78b1fcd6-365f-4d56-ad6e-803cb118ba80",
   "metadata": {},
   "source": [
    "# Eléments remarquables de user_stats "
   ]
  },
  {
   "cell_type": "code",
   "execution_count": null,
   "id": "c2da738e-a73a-4d70-89b3-d8a99e570408",
   "metadata": {},
   "outputs": [],
   "source": [
    "len(usr_stats.loc[usr_stats['days_without_event']>12])"
   ]
  },
  {
   "cell_type": "code",
   "execution_count": null,
   "id": "d3ba8b23-0501-4ee8-976a-36a13f6ce66c",
   "metadata": {},
   "outputs": [],
   "source": [
    "usr_stats['days_without_event'].value_counts().sort_index()"
   ]
  },
  {
   "cell_type": "code",
   "execution_count": null,
   "id": "29a0533b-d787-4a76-aeff-7add4fed112c",
   "metadata": {},
   "outputs": [],
   "source": [
    "import matplotlib.pyplot as plt\n",
    "\n",
    "# Assuming usr_stats is your DataFrame\n",
    "usr_stats['days_without_event'].value_counts().sort_index().plot(kind='line', color='#97C8A6')\n",
    "\n",
    "# Adding labels and title\n",
    "plt.xlabel('Jours sans événement (ni déplacement, ni activité)', size=11)\n",
    "plt.ylabel('Fréquence', size=11)\n",
    "plt.title('Compte des jours sans événement gps', size=11)\n",
    "\n",
    "# Display the plot\n",
    "plt.show()\n"
   ]
  },
  {
   "cell_type": "code",
   "execution_count": null,
   "id": "537c871c-da7f-4945-8677-9d6d3d1883bf",
   "metadata": {},
   "outputs": [],
   "source": [
    "import matplotlib.pyplot as plt\n",
    "import matplotlib.patches as patches\n",
    "import matplotlib.patheffects as path_effects\n",
    "\n",
    "stat_day_count = usr_stats[['days_in_range','active_days_count','days_without_track','days_without_event']]\n",
    "#stat_day_count.describe().astype(int)\n",
    "\n",
    "# Customizing the box plot\n",
    "fig, ax = plt.subplots(figsize=(8, 8))\n",
    "\n",
    "\n",
    "# Plotting the box plot for the selected columns\n",
    "stat_day_count.plot.box(\n",
    "    ax=ax, \n",
    "    notch=True,             # Draws a notch to represent the confidence interval\n",
    "    patch_artist=True,      # Fill the box with color\n",
    "    boxprops=dict(facecolor='white', color='black'),  # Customize box appearance\n",
    "    medianprops=dict(color='black', linewidth=2),          # Customize median line\n",
    "    whiskerprops=dict(color='black', linewidth=1.5),      # Customize whiskers\n",
    "    capprops=dict(color='black', linewidth=1.5),          # Customize caps\n",
    "    flierprops=dict(marker='o', color='black', alpha=0.5)  # Customize outliers\n",
    ")\n",
    "\n",
    "# Adding titles and labels in French with larger font sizes\n",
    "ax.set_title(' ', fontsize=16)\n",
    "ax.set_xlabel(' ', fontsize=16)\n",
    "ax.set_ylabel('Jours', fontsize=12)\n",
    "\n",
    "# Customizing x-axis labels to French\n",
    "ax.set_xticklabels(['Période \\n d\\'observations', 'Jours avec \\n activité(s)', 'Jours sans \\n déplacement', 'Jours sans \\n observation'], fontsize=12)\n",
    "\n",
    "# Customizing y-axis labels\n",
    "ax.tick_params(axis='y', labelsize=12)\n",
    "\n",
    "# Customizing grid\n",
    "ax.grid(True, linestyle='--', linewidth=0.7, alpha=0.7, color='black')\n",
    "\n",
    "# Save the plot as a PNG file\n",
    "#plt.savefig('../Data/temp_files/box_plot_observations.png', format='png')\n",
    "\n",
    "# Displaying the plot\n",
    "plt.show()"
   ]
  },
  {
   "cell_type": "code",
   "execution_count": null,
   "id": "f4ff12f3-3880-4ee5-a074-543c941187dd",
   "metadata": {},
   "outputs": [],
   "source": []
  },
  {
   "cell_type": "code",
   "execution_count": null,
   "id": "5185eaaa-d020-4f82-ace4-57541a071e36",
   "metadata": {},
   "outputs": [],
   "source": []
  },
  {
   "cell_type": "code",
   "execution_count": null,
   "id": "d89eb89b-ba0e-45da-b183-e94387c37eb6",
   "metadata": {},
   "outputs": [],
   "source": [
    "usr_stats.describe()"
   ]
  },
  {
   "cell_type": "code",
   "execution_count": null,
   "id": "bba54d1f-020e-40e9-9612-b37145c28390",
   "metadata": {},
   "outputs": [],
   "source": [
    "len(usr_stats[usr_stats.KT_home_survey != usr_stats.KT_home_gps])"
   ]
  },
  {
   "cell_type": "code",
   "execution_count": null,
   "id": "56410d40-88ae-4154-b2f3-06b8347243d4",
   "metadata": {},
   "outputs": [],
   "source": [
    "import geopandas as gpd\n",
    "import matplotlib.pyplot as plt\n",
    "\n",
    "# Sample GeoDataFrame usr_stats with 'home_geometry_from_gps' and 'home_geometry_from_survey' columns\n",
    "# Assuming the initial CRS is EPSG:4326 (WGS84)\n",
    "\n",
    "# Define the target CRS in meters\n",
    "target_crs_meters = 'EPSG:2056'  # Web Mercator\n",
    "\n",
    "# Convert the 'home_geometry_from_gps' and 'home_geometry_from_survey' columns to the target CRS\n",
    "usr_stats['home_geometry_from_gps_m'] = usr_stats['home_geometry_from_gps'].to_crs(target_crs_meters)\n",
    "usr_stats['home_geometry_from_survey_m'] = usr_stats['home_geometry_from_survey'].to_crs(target_crs_meters)\n",
    "\n",
    "# Calculate the distances in meters\n",
    "usr_stats['distance_home_gps_survey_m'] = usr_stats['home_geometry_from_gps_m'].distance(usr_stats['home_geometry_from_survey_m'])\n",
    "\n",
    "# Define the distance thresholds\n",
    "distance_thresholds = [0, 250, 500, 1000, 2000, 3000, 4000, 5000, 7500, 10000]  \n",
    "  # Add more thresholds as needed\n",
    "\n",
    "# Count occurrences for each threshold\n",
    "count_per_threshold = []\n",
    "for threshold in distance_thresholds:\n",
    "    count = usr_stats['distance_home_gps_survey_m'][usr_stats['distance_home_gps_survey_m'] > threshold].count()\n",
    "    count_per_threshold.append(count)\n",
    "\n",
    "# Plotting the distribution of distances for each threshold as a line chart\n",
    "plt.figure(figsize=(8, 6))\n",
    "plt.plot(distance_thresholds, count_per_threshold, marker='o', linestyle='-', color='skyblue')\n",
    "plt.xlabel('Seuils de distance entre les deux localisations de domicile (mètres)')\n",
    "plt.ylabel(\"Compte de répondant·es qui dépassent le seuil\")\n",
    "plt.title(\"Distance à vol d'oiseau entre \\n le domicile déclaré (questionnaire) et le domicile inféré (GPS)\")\n",
    "plt.grid(True)\n",
    "plt.xticks(distance_thresholds)\n",
    "plt.xticks(rotation=45)\n",
    "plt.show()\n"
   ]
  },
  {
   "cell_type": "code",
   "execution_count": null,
   "id": "2f0d538f-8464-47c2-b46c-1e4ca9e496a1",
   "metadata": {},
   "outputs": [],
   "source": [
    "usr_stats['distance_home_gps_survey_m'].plot.hist(bins=100)"
   ]
  },
  {
   "cell_type": "code",
   "execution_count": null,
   "id": "7b891262-9949-45aa-b2a1-c1bd4b7fe0cf",
   "metadata": {},
   "outputs": [],
   "source": []
  },
  {
   "cell_type": "code",
   "execution_count": null,
   "id": "d693d43c-0d40-4ee5-950f-5a472b8533d0",
   "metadata": {},
   "outputs": [],
   "source": []
  },
  {
   "cell_type": "code",
   "execution_count": null,
   "id": "9d4feadb-03dc-450c-a75d-9efd6fe9dded",
   "metadata": {},
   "outputs": [],
   "source": []
  }
 ],
 "metadata": {
  "kernelspec": {
   "display_name": "Python 3 (ipykernel)",
   "language": "python",
   "name": "python3"
  },
  "language_info": {
   "codemirror_mode": {
    "name": "ipython",
    "version": 3
   },
   "file_extension": ".py",
   "mimetype": "text/x-python",
   "name": "python",
   "nbconvert_exporter": "python",
   "pygments_lexer": "ipython3",
   "version": "3.12.2"
  }
 },
 "nbformat": 4,
 "nbformat_minor": 5
}
