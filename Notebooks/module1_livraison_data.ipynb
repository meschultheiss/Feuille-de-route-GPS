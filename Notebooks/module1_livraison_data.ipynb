{
 "cells": [
  {
   "cell_type": "code",
   "execution_count": null,
   "id": "3444f9c1-5631-48e1-95df-89d77a7ee49d",
   "metadata": {},
   "outputs": [],
   "source": [
    "import geopandas as gpd\n",
    "import pandas as pd\n",
    "pd.set_option('display.max_columns', None)\n",
    "import numpy as np\n",
    "\n",
    "from shapely import geometry, ops\n",
    "from shapely.geometry import MultiLineString, LineString, Point\n",
    "import os\n",
    "import concurrent.futures\n",
    "from shapely.ops import unary_union\n",
    "from shapely.geometry import JOIN_STYLE, Polygon, MultiPolygon\n",
    "\n",
    "import pycountry\n",
    "import xyt\n",
    "\n",
    "import time"
   ]
  },
  {
   "cell_type": "markdown",
   "id": "af9b73a6-5d1d-4d21-96e7-a1ecb352a0c8",
   "metadata": {},
   "source": [
    "### Ajuster le module TP pour livraison aux cantons"
   ]
  },
  {
   "cell_type": "code",
   "execution_count": null,
   "id": "d3328ad4-0724-43e6-9272-d49ad0118bdd",
   "metadata": {},
   "outputs": [],
   "source": [
    "# IMPORT DATA\n",
    "user_stat = pd.read_pickle('../Data/processed_feuille_de_route/gps_user_statistics.pkl')\n",
    "\n",
    "legs = pd.read_pickle('../Data/processed_feuille_de_route/legs_nogeometry.pkl')\n",
    "\n",
    "module_tp = pd.read_csv(\"../Data/dumps_fors/EPFL Panel Lémanique GPS - Données Users & TimeTables/EPFL Panel Lémanique GPS - TimeTables.csv\")\n",
    "\n",
    "module_tp = pd.merge(module_tp, user_stat[['user_id_fors','user_id_motiontag']].drop_duplicates(),\n",
    "                    how = 'left', left_on = 'IDNO', right_on = 'user_id_fors')\n"
   ]
  },
  {
   "cell_type": "code",
   "execution_count": null,
   "id": "dd9b6ef0-9319-4280-8666-b383432b55a1",
   "metadata": {},
   "outputs": [],
   "source": [
    "#Check if storyline_uuid eq to leg_id\n",
    "uuids = module_tp.storyline_uuid.sample(5)\n",
    "legs.loc[legs.leg_id.isin(uuids)]"
   ]
  },
  {
   "cell_type": "code",
   "execution_count": null,
   "id": "87e76e33-6a9c-4d9f-902d-cf3d87d183a3",
   "metadata": {},
   "outputs": [],
   "source": [
    "# CHANGER L'ORDRE DES COLONNES ET SUPPRIMER 'storyline_id'\n",
    "\n",
    "sort_cols = ['user_id_fors','user_id_motiontag','storyline_uuid', 'departure_at',\n",
    "       'departure_station_id', 'departure_station_name',\n",
    "       'departure_station_latitude', 'departure_station_longitude',\n",
    "       'arrival_at', 'arrival_station_id', 'arrival_station_name',\n",
    "       'arrival_station_latitude', 'arrival_station_longitude', 'mode',\n",
    "       'line_number', 'train_number', 'operator']\n",
    "\n",
    "module_tp['departure_at'] = pd.to_datetime(module_tp['departure_at'])\n",
    "module_tp_ = module_tp[sort_cols].sort_values(by=['user_id_fors','departure_at']).copy().reset_index(drop=True).rename(columns={'storyline_uuid':'leg_id'})\n",
    "module_tp_.head(2)"
   ]
  },
  {
   "cell_type": "code",
   "execution_count": null,
   "id": "311fef18-1d11-4c66-ae08-6d3b07062f00",
   "metadata": {},
   "outputs": [],
   "source": [
    "module_tp_.head(5)"
   ]
  },
  {
   "cell_type": "code",
   "execution_count": null,
   "id": "41bdad14-2101-411d-89e2-954bede16db8",
   "metadata": {},
   "outputs": [],
   "source": [
    "# EXPORTER LE NUOVEAU FICHIER\n",
    "#module_tp_.to_csv('../Data/processed_feuille_de_route/240528_module_tp.csv')"
   ]
  },
  {
   "cell_type": "markdown",
   "id": "c2a3e0c3-58be-43b3-98a9-48745519d86c",
   "metadata": {},
   "source": [
    "### Ajuster le fichier Dépacement pour livraison aux cantons"
   ]
  },
  {
   "cell_type": "code",
   "execution_count": null,
   "id": "6357c5d0-57f8-4ff1-89dd-940c74dd560a",
   "metadata": {},
   "outputs": [],
   "source": [
    "# IMPORT DATA\n",
    "trips = pd.read_csv(\"../Data/dumps_motiontag/Trips2023-04-01--2023-08-31.csv\")\n",
    "trips.rename(columns={'id':'trip_id','user_id':'user_id_motiontag'},inplace=True)\n",
    "trips.head(3)\n"
   ]
  },
  {
   "cell_type": "code",
   "execution_count": null,
   "id": "fdff97e5-1f6a-4591-82da-caa53012f3d3",
   "metadata": {},
   "outputs": [],
   "source": [
    "trips_ = pd.merge(user_stat[['user_id_fors','user_id_motiontag']], trips, how='left', on='user_id_motiontag')\n",
    "trips_.head(3)"
   ]
  },
  {
   "cell_type": "code",
   "execution_count": null,
   "id": "0df2ad71-d211-40ab-9056-2f623f25501d",
   "metadata": {},
   "outputs": [],
   "source": [
    "# CHECK THE MERGE\n",
    "len(trips) - len(trips_)"
   ]
  },
  {
   "cell_type": "code",
   "execution_count": null,
   "id": "211d3fad-f2d3-43c2-8d3e-ebf2a171d607",
   "metadata": {},
   "outputs": [],
   "source": [
    "#We loose some data because user_stat discarded some users from the original motiontag dump (probably bad users)\n",
    "len(trips.loc[~trips['trip_id'].isin(trips_.trip_id.unique()), 'user_id_motiontag'].unique())"
   ]
  },
  {
   "cell_type": "code",
   "execution_count": null,
   "id": "6787bb2e-09b2-4607-a7db-d8f17d0d9362",
   "metadata": {},
   "outputs": [],
   "source": [
    "# EXPORTER LE NUOVEAU FICHIER\n",
    "#trips_.to_csv('../Data/processed_feuille_de_route/240528_trips.csv')"
   ]
  },
  {
   "cell_type": "markdown",
   "id": "43b3db08-d426-415a-ad4d-0cc8fea8c862",
   "metadata": {},
   "source": [
    "### Parse Legs from pkl to csv"
   ]
  },
  {
   "cell_type": "code",
   "execution_count": null,
   "id": "82304132-7867-417a-b9bf-2aae874cb938",
   "metadata": {},
   "outputs": [],
   "source": [
    "#legs.to_csv('../Data/donnees_livrees/20240528_dump_situee/20240329_legs_nogeometry.csv')"
   ]
  },
  {
   "cell_type": "code",
   "execution_count": null,
   "id": "0421f7fa-37e2-41c9-a460-0e09621f4980",
   "metadata": {},
   "outputs": [],
   "source": []
  }
 ],
 "metadata": {
  "kernelspec": {
   "display_name": "Python 3 (ipykernel)",
   "language": "python",
   "name": "python3"
  },
  "language_info": {
   "codemirror_mode": {
    "name": "ipython",
    "version": 3
   },
   "file_extension": ".py",
   "mimetype": "text/x-python",
   "name": "python",
   "nbconvert_exporter": "python",
   "pygments_lexer": "ipython3",
   "version": "3.12.2"
  }
 },
 "nbformat": 4,
 "nbformat_minor": 5
}
